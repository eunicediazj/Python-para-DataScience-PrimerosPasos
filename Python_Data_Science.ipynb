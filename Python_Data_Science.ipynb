{
  "nbformat": 4,
  "nbformat_minor": 0,
  "metadata": {
    "colab": {
      "provenance": [],
      "include_colab_link": true
    },
    "kernelspec": {
      "name": "python3",
      "display_name": "Python 3"
    },
    "language_info": {
      "name": "python"
    }
  },
  "cells": [
    {
      "cell_type": "markdown",
      "metadata": {
        "id": "view-in-github",
        "colab_type": "text"
      },
      "source": [
        "<a href=\"https://colab.research.google.com/github/eunicediazj/Python-para-DataScience-PrimerosPasos/blob/main/Python_Data_Science.ipynb\" target=\"_parent\"><img src=\"https://colab.research.google.com/assets/colab-badge.svg\" alt=\"Open In Colab\"/></a>"
      ]
    },
    {
      "cell_type": "markdown",
      "source": [
        "# Python para Data Science\n",
        "\n",
        "Notebook para el curso de Python para Data Science publicado en la plataforma de [Alura Latam](https://www.aluracursos.com/)"
      ],
      "metadata": {
        "id": "lQx6Mmv0OJyT"
      }
    },
    {
      "cell_type": "markdown",
      "source": [
        "# Introducción a Python\n",
        "¡Vamos a conocer Python, nuestro ambiente de estudio, y también generaremos nuestro primer código en este lenguaje!"
      ],
      "metadata": {
        "id": "7SiB6JIpYKmY"
      }
    },
    {
      "cell_type": "markdown",
      "source": [
        "## Google Colaboratory\n",
        "\n",
        "Ya aprendimos qué es [Python](https://www.python.org/) y ahora aprenderemos a usar nuestra herramienta de ejecución [Google Colaboratory](https://colab.research.google.com/) para programar en un notebook interactivo.\n",
        "\n",
        "Vamos a probar algunas funciones de este ambiente."
      ],
      "metadata": {
        "id": "Yugfb3fCOYY9"
      }
    },
    {
      "cell_type": "markdown",
      "source": [
        " **`>>> Usa esta celda para mover <<<`**"
      ],
      "metadata": {
        "id": "2iUHQsJasJAk"
      }
    },
    {
      "cell_type": "code",
      "source": [],
      "metadata": {
        "id": "o7jrX_iKhdkU"
      },
      "execution_count": null,
      "outputs": []
    },
    {
      "cell_type": "markdown",
      "source": [
        "## ¡Hola mundo!\n",
        "\n",
        "Vamos a conocer un poco más de cerca nuestro notebook. Para ello ejecutaremos nuestro primer comando en Python: [`print()`](https://docs.python.org/3/library/functions.html#print)"
      ],
      "metadata": {
        "id": "aLSFP2V7XTfe"
      }
    },
    {
      "cell_type": "code",
      "source": [
        "print('¡Hola mundo!')"
      ],
      "metadata": {
        "id": "0qZX8_ZQBYyk",
        "outputId": "36b4e447-90b2-4a2e-8a36-a5a7004a136d",
        "colab": {
          "base_uri": "https://localhost:8080/"
        }
      },
      "execution_count": null,
      "outputs": [
        {
          "output_type": "stream",
          "name": "stdout",
          "text": [
            "¡Hola mundo!\n"
          ]
        }
      ]
    },
    {
      "cell_type": "code",
      "source": [
        "15"
      ],
      "metadata": {
        "id": "QRY68XfwHT_-",
        "outputId": "1af5a1da-0dea-4c14-80a1-34a99153eb5d",
        "colab": {
          "base_uri": "https://localhost:8080/"
        }
      },
      "execution_count": null,
      "outputs": [
        {
          "output_type": "execute_result",
          "data": {
            "text/plain": [
              "15"
            ]
          },
          "metadata": {},
          "execution_count": 2
        }
      ]
    },
    {
      "cell_type": "code",
      "source": [
        "print('Mi nombre es Eunice, tengo 29 años y me encanta la ciencia de datos')"
      ],
      "metadata": {
        "id": "RgcPDc8-HXpm",
        "outputId": "fe412d32-7776-42fe-c091-e04b8b8332a9",
        "colab": {
          "base_uri": "https://localhost:8080/"
        }
      },
      "execution_count": null,
      "outputs": [
        {
          "output_type": "stream",
          "name": "stdout",
          "text": [
            "Mi nombre es Eunice, tengo 29 años y me encanta la ciencia de datos\n"
          ]
        }
      ]
    },
    {
      "cell_type": "markdown",
      "source": [
        "#### Desafío 01. Comenzando con Python"
      ],
      "metadata": {
        "id": "H-47ILYPH1ht"
      }
    },
    {
      "cell_type": "code",
      "source": [
        "print('Escuela de Datos de Alura')"
      ],
      "metadata": {
        "id": "Gz9fXY94ICxY",
        "outputId": "de4a6f45-7b95-466f-8608-645b49b7593a",
        "colab": {
          "base_uri": "https://localhost:8080/"
        }
      },
      "execution_count": null,
      "outputs": [
        {
          "output_type": "stream",
          "name": "stdout",
          "text": [
            "Escuela de Datos de Alura\n"
          ]
        }
      ]
    },
    {
      "cell_type": "code",
      "source": [
        "print('Nombre: Eunice')\n",
        "print('Apellido: Díaz')"
      ],
      "metadata": {
        "id": "JNDjAJBYIIwa",
        "outputId": "ad7de378-40a0-413f-e39d-4b616508f75b",
        "colab": {
          "base_uri": "https://localhost:8080/"
        }
      },
      "execution_count": null,
      "outputs": [
        {
          "output_type": "stream",
          "name": "stdout",
          "text": [
            "Nombre: Eunice\n",
            "Apellido: Díaz\n"
          ]
        }
      ]
    },
    {
      "cell_type": "code",
      "source": [
        "print('E')\n",
        "print('U')\n",
        "print('N')\n",
        "print('I')\n",
        "print('C')\n",
        "print('E')"
      ],
      "metadata": {
        "id": "8Ry2bnpdIRi3",
        "outputId": "15a6d296-95ea-48c9-b3d1-2d6c2de77747",
        "colab": {
          "base_uri": "https://localhost:8080/"
        }
      },
      "execution_count": null,
      "outputs": [
        {
          "output_type": "stream",
          "name": "stdout",
          "text": [
            "E\n",
            "U\n",
            "N\n",
            "I\n",
            "C\n",
            "E\n"
          ]
        }
      ]
    },
    {
      "cell_type": "code",
      "source": [
        "print(9, 'febrero', 1996)"
      ],
      "metadata": {
        "id": "joicSEnVIq2E",
        "outputId": "1ed750c2-3ce1-452c-cb00-b3dba5d3f83a",
        "colab": {
          "base_uri": "https://localhost:8080/"
        }
      },
      "execution_count": null,
      "outputs": [
        {
          "output_type": "stream",
          "name": "stdout",
          "text": [
            "9 febrero 1996\n"
          ]
        }
      ]
    },
    {
      "cell_type": "code",
      "source": [
        "print('Año actual: ', 2025)"
      ],
      "metadata": {
        "id": "YM69upxVJHL2",
        "outputId": "50777d3d-774a-427f-e97a-c552644970db",
        "colab": {
          "base_uri": "https://localhost:8080/"
        }
      },
      "execution_count": null,
      "outputs": [
        {
          "output_type": "stream",
          "name": "stdout",
          "text": [
            "Año actual:  2025\n"
          ]
        }
      ]
    },
    {
      "cell_type": "markdown",
      "source": [
        "# Manipulando los datos\n",
        "\n",
        "Vamos a aprender sobre las variables en Python, cómo declararlas y utilizarlas además de conocer otros comandos de este lenguaje. :D"
      ],
      "metadata": {
        "id": "iP8uWQmFYFRs"
      }
    },
    {
      "cell_type": "markdown",
      "source": [
        "## Variables\n",
        "\n",
        "En Data Science trabajamos con varios tipos de datos e informaciones, entonces es esencial saber cómo trabajar con las variables."
      ],
      "metadata": {
        "id": "sLNVmnTbag1Z"
      }
    },
    {
      "cell_type": "markdown",
      "source": [
        "Las variables en Python se crean cuando atribuimos un valor a ella.\n",
        "\n",
        "Para esto, colocamos el nombre de la variable, el signo de igual (`=`) y el valor que queremos atribuirle."
      ],
      "metadata": {
        "id": "lsCY0wahAbf6"
      }
    },
    {
      "cell_type": "code",
      "source": [
        "5"
      ],
      "metadata": {
        "id": "vsHh5buZADND",
        "colab": {
          "base_uri": "https://localhost:8080/"
        },
        "outputId": "2f111b0a-7552-4262-f32e-6cf8d6de069f"
      },
      "execution_count": null,
      "outputs": [
        {
          "output_type": "execute_result",
          "data": {
            "text/plain": [
              "5"
            ]
          },
          "metadata": {},
          "execution_count": 9
        }
      ]
    },
    {
      "cell_type": "code",
      "source": [
        "id(5)"
      ],
      "metadata": {
        "id": "sivPtqSjADQV",
        "colab": {
          "base_uri": "https://localhost:8080/"
        },
        "outputId": "10eae629-253e-4454-a8e4-64ab4bc9493e"
      },
      "execution_count": null,
      "outputs": [
        {
          "output_type": "execute_result",
          "data": {
            "text/plain": [
              "11642216"
            ]
          },
          "metadata": {},
          "execution_count": 10
        }
      ]
    },
    {
      "cell_type": "code",
      "source": [
        "edad = 5"
      ],
      "metadata": {
        "id": "JC8jO47wADlm"
      },
      "execution_count": null,
      "outputs": []
    },
    {
      "cell_type": "code",
      "source": [
        "print(id(edad))\n",
        "print(id (5))"
      ],
      "metadata": {
        "colab": {
          "base_uri": "https://localhost:8080/"
        },
        "id": "YrFjV9BzaYqv",
        "outputId": "3cb44138-0987-4a83-b724-b4f3b47418b4"
      },
      "execution_count": null,
      "outputs": [
        {
          "output_type": "stream",
          "name": "stdout",
          "text": [
            "11642216\n",
            "11642216\n"
          ]
        }
      ]
    },
    {
      "cell_type": "code",
      "source": [
        "numerocinco = 5"
      ],
      "metadata": {
        "id": "y7QLAimlahJ-"
      },
      "execution_count": null,
      "outputs": []
    },
    {
      "cell_type": "code",
      "source": [
        "id(numerocinco)"
      ],
      "metadata": {
        "colab": {
          "base_uri": "https://localhost:8080/"
        },
        "id": "s4ZLVI7-amWQ",
        "outputId": "faa3db10-c74f-4c2a-f264-a869529ae91c"
      },
      "execution_count": null,
      "outputs": [
        {
          "output_type": "execute_result",
          "data": {
            "text/plain": [
              "11642216"
            ]
          },
          "metadata": {},
          "execution_count": 14
        }
      ]
    },
    {
      "cell_type": "code",
      "source": [
        "nombre = 'Eunice'"
      ],
      "metadata": {
        "id": "2UuCkxEpapQ-"
      },
      "execution_count": null,
      "outputs": []
    },
    {
      "cell_type": "code",
      "source": [
        "id('Eunice')"
      ],
      "metadata": {
        "colab": {
          "base_uri": "https://localhost:8080/"
        },
        "id": "qnnmz7myawrV",
        "outputId": "b9c53732-ed9b-4e9d-ed7b-315396ced74f"
      },
      "execution_count": null,
      "outputs": [
        {
          "output_type": "execute_result",
          "data": {
            "text/plain": [
              "136863968767664"
            ]
          },
          "metadata": {},
          "execution_count": 18
        }
      ]
    },
    {
      "cell_type": "code",
      "source": [
        "id(nombre)"
      ],
      "metadata": {
        "colab": {
          "base_uri": "https://localhost:8080/"
        },
        "id": "d8HIgugOaufw",
        "outputId": "b457ec80-544b-4241-8a10-b3a1f36735ac"
      },
      "execution_count": null,
      "outputs": [
        {
          "output_type": "execute_result",
          "data": {
            "text/plain": [
              "136863968767664"
            ]
          },
          "metadata": {},
          "execution_count": 19
        }
      ]
    },
    {
      "cell_type": "markdown",
      "source": [
        "Existen algunos tipos de nomes que **no** podemos definir para las variables:\n",
        "\n",
        "- **Nombres que comiencen con números**\n",
        "  - Ejemplos: `10_notas`, `2_nombre_casa`, etc.\n",
        "- **Palabras separadas por espacio**\n",
        "  - Ejemplos: `Nombre escuela`, `notas estudiantes`, etc.\n",
        "- **Nombres de funciones de Python**\n",
        "  - Ejemplos: `print`, `type`, etc."
      ],
      "metadata": {
        "id": "om2N0jHKAzwL"
      }
    },
    {
      "cell_type": "markdown",
      "source": [
        "> Las letras mayúsculas y minúsculas generarán diferentes variables. La variable `edad` es diferente de `Edad` que a su vez es diferente de `EDAD`:\n",
        "``` Python\n",
        "edad = 1\n",
        "Edad = 2\n",
        "EDAD = 3\n",
        "_edad = 4\n",
        "_edad_ = 5\n",
        "print(edad, Edad, EDAD, _edad, _edad_)\n",
        "1 2 3 4 5\n",
        "```"
      ],
      "metadata": {
        "id": "A19vY2GVMujB"
      }
    },
    {
      "cell_type": "code",
      "source": [
        "#Esto es un comentario de una sola línea\n",
        "'''Esto puede ser un comentario\n",
        "de varias líneas dentro de las comillas '''"
      ],
      "metadata": {
        "id": "d1kTxWgPblcg"
      },
      "execution_count": null,
      "outputs": []
    },
    {
      "cell_type": "markdown",
      "source": [
        "## Tipos de variables\n",
        "\n",
        "Cada variable contiene una clase específica con respecto al tipo de objeto al cual esta hace referencia. Estas clases serán diferentes de acuerdo con el tipo de dato que le sea atribuido a una variable.\n",
        "\n",
        "Para conocer la clase de cada elemento usamos la función [`type()`](https://docs.python.org/3/library/functions.html#type)"
      ],
      "metadata": {
        "id": "UqhzuBhBHsps"
      }
    },
    {
      "cell_type": "code",
      "source": [
        "edad = 5 #Esto es una variable entera"
      ],
      "metadata": {
        "id": "J5a9t73A_-PX"
      },
      "execution_count": null,
      "outputs": []
    },
    {
      "cell_type": "code",
      "source": [
        "type(edad)"
      ],
      "metadata": {
        "id": "rqmO1ew-_-So",
        "colab": {
          "base_uri": "https://localhost:8080/"
        },
        "outputId": "be366968-272f-4bb6-dbcd-343e633763e7"
      },
      "execution_count": null,
      "outputs": [
        {
          "output_type": "execute_result",
          "data": {
            "text/plain": [
              "int"
            ]
          },
          "metadata": {},
          "execution_count": 21
        }
      ]
    },
    {
      "cell_type": "code",
      "source": [
        "promedio = 9.5 #Esto es una variable tipo float\n",
        "type(promedio)"
      ],
      "metadata": {
        "id": "xkrPMkeY_-cP",
        "colab": {
          "base_uri": "https://localhost:8080/"
        },
        "outputId": "d48576c3-8ed8-4ca9-9f3c-dcacd2a4929f"
      },
      "execution_count": null,
      "outputs": [
        {
          "output_type": "execute_result",
          "data": {
            "text/plain": [
              "float"
            ]
          },
          "metadata": {},
          "execution_count": 25
        }
      ]
    },
    {
      "cell_type": "code",
      "source": [
        "nombre = 'Eunice' #Esto es una variable tipo string\n",
        "type(nombre)"
      ],
      "metadata": {
        "colab": {
          "base_uri": "https://localhost:8080/"
        },
        "id": "JlM13f9tcqFH",
        "outputId": "6010b20e-e02d-4a82-b538-624bd02ac493"
      },
      "execution_count": null,
      "outputs": [
        {
          "output_type": "execute_result",
          "data": {
            "text/plain": [
              "str"
            ]
          },
          "metadata": {},
          "execution_count": 27
        }
      ]
    },
    {
      "cell_type": "code",
      "source": [
        "v = True #Esto es una variable tipo booleana\n",
        "type(v)"
      ],
      "metadata": {
        "colab": {
          "base_uri": "https://localhost:8080/"
        },
        "id": "xzchMEhlc4UL",
        "outputId": "0b8c79cd-e389-4ca3-bcf1-b719e7f26a47"
      },
      "execution_count": null,
      "outputs": [
        {
          "output_type": "execute_result",
          "data": {
            "text/plain": [
              "bool"
            ]
          },
          "metadata": {},
          "execution_count": 28
        }
      ]
    },
    {
      "cell_type": "markdown",
      "source": [
        "En un conjunto de datos escolares podemos tener varios tipos de informaciones. Supongamos que tenemos acceso a la ficha de datos del alumno *Penélope Camacho*, cómo transformamos este nombre en variables de Python?\n",
        "\n",
        "#### Ficha:\n",
        "\n",
        "- Nombre: Penélope Camacho\n",
        "- Edad: 11 años\n",
        "- Promedio del semestre: 9,75\n",
        "- Situación de aprobación: Verdadera (aprobado)"
      ],
      "metadata": {
        "id": "O-FxDumfWu0C"
      }
    },
    {
      "cell_type": "code",
      "source": [
        "nombre_estudiante = 'Penélope Camacho'\n",
        "edad_estudiante = 11\n",
        "promedio_estudiante = 9.75\n",
        "aprobado = True"
      ],
      "metadata": {
        "id": "FabQ7jQf_8Xt"
      },
      "execution_count": null,
      "outputs": []
    },
    {
      "cell_type": "code",
      "source": [
        "print(nombre_estudiante, edad_estudiante, promedio_estudiante, aprobado)\n",
        "print(type(nombre_estudiante), type(edad_estudiante), type(promedio_estudiante), type(aprobado))"
      ],
      "metadata": {
        "id": "IZLQnZUj_8bd",
        "colab": {
          "base_uri": "https://localhost:8080/"
        },
        "outputId": "1fa9aa52-e159-4be2-9a14-d8b78ef2bdb2"
      },
      "execution_count": null,
      "outputs": [
        {
          "output_type": "stream",
          "name": "stdout",
          "text": [
            "Penélope Camacho 11 9.75 True\n",
            "<class 'str'> <class 'int'> <class 'float'> <class 'bool'>\n"
          ]
        }
      ]
    },
    {
      "cell_type": "markdown",
      "source": [
        "## Variables numéricas\n",
        "\n",
        "Entre los tipos de datos numéricos vamos a enfocarnos en los tipos `entero` y `float`."
      ],
      "metadata": {
        "id": "KFq_8Sxf-OG0"
      }
    },
    {
      "cell_type": "markdown",
      "source": [
        "Tenemos una tabla de información sobre los diversos cargos, cantidad de personas empleadas y el salario correspondiente:\n",
        "\n",
        "|Cargo | Cantidad | Salario|\n",
        "|---|---|---|\n",
        "|Vigilante | 5 | 300 |\n",
        "|Docente | 16| 500|\n",
        "|Coordinador| 2 |600|\n",
        "\n",
        "Necesitamos trabajar con estos datos para obtener:\n",
        "\n",
        "- La cantidad total de empleados;\n",
        "- La diferencia entre el salario más bajo y más alto; y\n",
        "- El promedio ponderado de los salarios de los empleados de la escuela."
      ],
      "metadata": {
        "id": "8_HYUbkVYdQY"
      }
    },
    {
      "cell_type": "code",
      "source": [
        "c_vigilante = 5\n",
        "s_vigilante = 300\n",
        "\n",
        "c_docente = 16\n",
        "s_docente = 500\n",
        "\n",
        "c_coordinador = 2\n",
        "s_coordinador = 600"
      ],
      "metadata": {
        "id": "F_X-wxdm_5Ys"
      },
      "execution_count": null,
      "outputs": []
    },
    {
      "cell_type": "code",
      "source": [
        "total_empleados = c_vigilante + c_docente + c_coordinador\n",
        "total_empleados"
      ],
      "metadata": {
        "id": "gKmBbhII_5b9",
        "colab": {
          "base_uri": "https://localhost:8080/"
        },
        "outputId": "46f1ce3a-1397-4280-c68d-3d55503def47"
      },
      "execution_count": null,
      "outputs": [
        {
          "output_type": "execute_result",
          "data": {
            "text/plain": [
              "23"
            ]
          },
          "metadata": {},
          "execution_count": 33
        }
      ]
    },
    {
      "cell_type": "code",
      "source": [
        "diferencia_salario = s_coordinador - s_vigilante\n",
        "diferencia_salario"
      ],
      "metadata": {
        "id": "fIugsxNy_53j",
        "colab": {
          "base_uri": "https://localhost:8080/"
        },
        "outputId": "1a719f54-0572-4993-b96b-06fd6493097b"
      },
      "execution_count": null,
      "outputs": [
        {
          "output_type": "execute_result",
          "data": {
            "text/plain": [
              "300"
            ]
          },
          "metadata": {},
          "execution_count": 35
        }
      ]
    },
    {
      "cell_type": "code",
      "source": [
        "promedio_salarios = (c_vigilante * s_vigilante + c_docente * s_docente + c_coordinador * s_coordinador)/ total_empleados\n",
        "promedio_salarios"
      ],
      "metadata": {
        "colab": {
          "base_uri": "https://localhost:8080/"
        },
        "id": "BeKzFMmyfPCC",
        "outputId": "5d0b2112-d6a1-4783-dd38-3378887ca9da"
      },
      "execution_count": null,
      "outputs": [
        {
          "output_type": "execute_result",
          "data": {
            "text/plain": [
              "465.2173913043478"
            ]
          },
          "metadata": {},
          "execution_count": 38
        }
      ]
    },
    {
      "cell_type": "markdown",
      "source": [
        "## Strings"
      ],
      "metadata": {
        "id": "yQy7b0ZWoD-P"
      }
    },
    {
      "cell_type": "markdown",
      "source": [
        "Strings hace referencia a un conjunto de caracteres formando un texto.\n",
        "\n",
        "Podemos crear Strings cuando atribuimos un dato a una variable entre comillas sencillas (`'`) o comillas dobles (`\"`)."
      ],
      "metadata": {
        "id": "vlo2-DXusv3s"
      }
    },
    {
      "cell_type": "code",
      "source": [
        "t = 'Alura'\n",
        "type(t)"
      ],
      "metadata": {
        "id": "ityEWqvh_2wK",
        "colab": {
          "base_uri": "https://localhost:8080/"
        },
        "outputId": "ea3255d0-b0a9-49a1-f3c0-63a42984fefc"
      },
      "execution_count": null,
      "outputs": [
        {
          "output_type": "execute_result",
          "data": {
            "text/plain": [
              "str"
            ]
          },
          "metadata": {},
          "execution_count": 39
        }
      ]
    },
    {
      "cell_type": "markdown",
      "source": [
        "Las variables textuales son objetos que poseen métodos que nos ayudan a formatear strings. Los métodos los podemos ejecutar al definir un objeto de acuerdo con la siguiente estructura:\n",
        "\n",
        "```\n",
        "objeto.metodo()\n",
        "```\n",
        "\n",
        "Existen métodos que no necesitan los `()`, siempre es una buena práctica verificar la documentación para cada caso."
      ],
      "metadata": {
        "id": "2e9UD_CCxqz_"
      }
    },
    {
      "cell_type": "markdown",
      "source": [
        "---\n",
        "**Situación:**\n",
        "\n",
        "Recibimos una variable con el nombre de una profesora de la escuela para añadirla a los registros. Sin embargo, necesitamos darle un tratamiento a este texto antes de insertarlo al sistema."
      ],
      "metadata": {
        "id": "p6aPmMGP4tf9"
      }
    },
    {
      "cell_type": "code",
      "source": [
        "texto = '  Micaela de los Sanyos '\n",
        "id(texto)"
      ],
      "metadata": {
        "id": "icDWtYTjBO0n",
        "colab": {
          "base_uri": "https://localhost:8080/"
        },
        "outputId": "99837ceb-c917-4b33-e904-83da9b73b805"
      },
      "execution_count": null,
      "outputs": [
        {
          "output_type": "execute_result",
          "data": {
            "text/plain": [
              "136863945991680"
            ]
          },
          "metadata": {},
          "execution_count": 40
        }
      ]
    },
    {
      "cell_type": "markdown",
      "source": [
        "El objetivo final es que el nombre aparezca de la siguiente forma:\n",
        "\n",
        "```\n",
        "'MICAELA DE LOS SANTOS'\n",
        "```"
      ],
      "metadata": {
        "id": "Dg2ZXSZOGzjC"
      }
    },
    {
      "cell_type": "markdown",
      "source": [
        "### [`str.upper()` ](https://docs.python.org/3/library/stdtypes.html#str.upper)\n",
        "Convierte una string a mayúsculas."
      ],
      "metadata": {
        "id": "iVTAD8q702eN"
      }
    },
    {
      "cell_type": "code",
      "source": [
        "texto.upper() #Sirve para convertir a mayusculas"
      ],
      "metadata": {
        "id": "wMVshJrY_ZXh",
        "colab": {
          "base_uri": "https://localhost:8080/",
          "height": 36
        },
        "outputId": "d5bebf88-3311-460a-997a-266148adaeec"
      },
      "execution_count": null,
      "outputs": [
        {
          "output_type": "execute_result",
          "data": {
            "text/plain": [
              "'  MICAELA DE LOS SANYOS '"
            ],
            "application/vnd.google.colaboratory.intrinsic+json": {
              "type": "string"
            }
          },
          "metadata": {},
          "execution_count": 42
        }
      ]
    },
    {
      "cell_type": "markdown",
      "source": [
        "### [`str.lower()`](https://docs.python.org/3/library/stdtypes.html#str.lower)\n",
        "Convierte una string a minúsculas."
      ],
      "metadata": {
        "id": "hbDSBtMV1TpG"
      }
    },
    {
      "cell_type": "code",
      "source": [
        "texto.lower() #Convierte texto a minuscula"
      ],
      "metadata": {
        "id": "px3yEeNH_YK4",
        "colab": {
          "base_uri": "https://localhost:8080/",
          "height": 36
        },
        "outputId": "84b017d2-be69-4340-dd2b-621a6e692495"
      },
      "execution_count": null,
      "outputs": [
        {
          "output_type": "execute_result",
          "data": {
            "text/plain": [
              "'  micaela de los sanyos '"
            ],
            "application/vnd.google.colaboratory.intrinsic+json": {
              "type": "string"
            }
          },
          "metadata": {},
          "execution_count": 43
        }
      ]
    },
    {
      "cell_type": "markdown",
      "source": [
        "### [`str.strip()`](https://docs.python.org/3/library/stdtypes.html#str.strip)\n",
        "Elimina los espacios en blanco al inicio y al final de una string."
      ],
      "metadata": {
        "id": "kz47eWM11gii"
      }
    },
    {
      "cell_type": "code",
      "source": [
        "texto.strip() #Elimina espacios en blanco al inicio y al final de la variable"
      ],
      "metadata": {
        "id": "76dLgNa4_XAe",
        "colab": {
          "base_uri": "https://localhost:8080/",
          "height": 36
        },
        "outputId": "411ff5b2-720a-4d76-ae53-9dbb089a1577"
      },
      "execution_count": null,
      "outputs": [
        {
          "output_type": "execute_result",
          "data": {
            "text/plain": [
              "'Micaela de los Sanyos'"
            ],
            "application/vnd.google.colaboratory.intrinsic+json": {
              "type": "string"
            }
          },
          "metadata": {},
          "execution_count": 44
        }
      ]
    },
    {
      "cell_type": "markdown",
      "source": [
        "### [`str.replace(antiguo, nuevo)`](https://docs.python.org/3/library/stdtypes.html#str.replace)\n",
        "\n",
        "Sustituye todas las ocurrencias del texto \"antiguo\" en la string por el  \"nuevo\"."
      ],
      "metadata": {
        "id": "m6notiyS1SCV"
      }
    },
    {
      "cell_type": "code",
      "source": [
        "texto.replace('y', 't') #Cambia el texto que se coloca entre comillas"
      ],
      "metadata": {
        "id": "PNXAixtE_V6R",
        "colab": {
          "base_uri": "https://localhost:8080/",
          "height": 36
        },
        "outputId": "dc7c3304-e702-4d5e-be12-e9e29330c8f2"
      },
      "execution_count": null,
      "outputs": [
        {
          "output_type": "execute_result",
          "data": {
            "text/plain": [
              "'  Micaela de los Santos '"
            ],
            "application/vnd.google.colaboratory.intrinsic+json": {
              "type": "string"
            }
          },
          "metadata": {},
          "execution_count": 45
        }
      ]
    },
    {
      "cell_type": "code",
      "source": [
        "''' Estas modificaciones no se están almacenando en la variable, sólo se están\n",
        "realizando sin afectar la variable original'''"
      ],
      "metadata": {
        "colab": {
          "base_uri": "https://localhost:8080/",
          "height": 53
        },
        "id": "sSgJah1hh_MP",
        "outputId": "5c34a7b5-3431-4b2c-deb3-74c1fadb9000"
      },
      "execution_count": null,
      "outputs": [
        {
          "output_type": "execute_result",
          "data": {
            "text/plain": [
              "' Estas modificaciones no se están almacenando en la variable, sólo se están\\nrealizando sin afectar la variable original'"
            ],
            "application/vnd.google.colaboratory.intrinsic+json": {
              "type": "string"
            }
          },
          "metadata": {},
          "execution_count": 46
        }
      ]
    },
    {
      "cell_type": "markdown",
      "source": [
        "### Observaciones\n",
        "\n",
        "1. Los métodos devuelven una **tranformación**, no son ejecutados directamente sobre la variable donde está almacenado el texto.\n",
        "\n",
        "2. Adicionalmente, podemos acumular la ejecución de los métodos."
      ],
      "metadata": {
        "id": "zukvEjhG2Rcn"
      }
    },
    {
      "cell_type": "code",
      "source": [
        "id(texto)"
      ],
      "metadata": {
        "colab": {
          "base_uri": "https://localhost:8080/"
        },
        "id": "7dDMX_QvikQl",
        "outputId": "0d06308e-4a1c-49e3-e997-1e3fa9087705"
      },
      "execution_count": null,
      "outputs": [
        {
          "output_type": "execute_result",
          "data": {
            "text/plain": [
              "136863945991680"
            ]
          },
          "metadata": {},
          "execution_count": 48
        }
      ]
    },
    {
      "cell_type": "markdown",
      "source": [
        "Para que la transformación se pueda ejecutar debemos atribuir la salida de las transformaciones a las variables"
      ],
      "metadata": {
        "id": "1KbwfVut2h6I"
      }
    },
    {
      "cell_type": "code",
      "source": [
        "nuevo_texto = texto.strip().replace('y', 't').upper()\n",
        "nuevo_texto"
      ],
      "metadata": {
        "id": "JjkBRklr_T5n",
        "colab": {
          "base_uri": "https://localhost:8080/",
          "height": 36
        },
        "outputId": "61b0efa3-b497-48bd-e1e9-f4555c1fbc49"
      },
      "execution_count": null,
      "outputs": [
        {
          "output_type": "execute_result",
          "data": {
            "text/plain": [
              "'MICAELA DE LOS SANTOS'"
            ],
            "application/vnd.google.colaboratory.intrinsic+json": {
              "type": "string"
            }
          },
          "metadata": {},
          "execution_count": 47
        }
      ]
    },
    {
      "cell_type": "code",
      "source": [
        "print(id(texto))\n",
        "print(id(nuevo_texto))"
      ],
      "metadata": {
        "id": "ocPP-Jaj_SJI",
        "colab": {
          "base_uri": "https://localhost:8080/"
        },
        "outputId": "d03902cb-2e34-4074-c871-2f0937e4220f"
      },
      "execution_count": null,
      "outputs": [
        {
          "output_type": "stream",
          "name": "stdout",
          "text": [
            "136863945991680\n",
            "136863946728880\n"
          ]
        }
      ]
    },
    {
      "cell_type": "code",
      "source": [
        "texto = texto.strip().replace('y', 't').upper()\n",
        "print(texto)\n",
        "print(id(texto), id(nuevo_texto))"
      ],
      "metadata": {
        "id": "m1RvLGZZ_SP3",
        "colab": {
          "base_uri": "https://localhost:8080/"
        },
        "outputId": "60f168ff-a130-42f0-9474-0286b56f721e"
      },
      "execution_count": null,
      "outputs": [
        {
          "output_type": "stream",
          "name": "stdout",
          "text": [
            "MICAELA DE LOS SANTOS\n",
            "136863949015664 136863946728880\n"
          ]
        }
      ]
    },
    {
      "cell_type": "markdown",
      "source": [
        "## Capturando datos\n",
        "\n",
        "En algunas aplicaciones necesitamos capturar los valores del usuario de nuestro proyecto. En python, logramos capturar los datos del usuario a través del comando [`input()`](https://docs.python.org/3/library/functions.html#input).\n",
        "\n",
        "Para ejecutar la captura debemos atribuir el resultado de esta función a una variable."
      ],
      "metadata": {
        "id": "0h9Fh5G9kHCa"
      }
    },
    {
      "cell_type": "code",
      "source": [
        "nombre = input('Escribe tu nombre: ')"
      ],
      "metadata": {
        "id": "zbH_9i3q_PdY",
        "colab": {
          "base_uri": "https://localhost:8080/"
        },
        "outputId": "8c15aa8d-602b-420a-f863-740fe46225be"
      },
      "execution_count": null,
      "outputs": [
        {
          "name": "stdout",
          "output_type": "stream",
          "text": [
            "Escribe tu nombre: Eunice\n"
          ]
        }
      ]
    },
    {
      "cell_type": "code",
      "source": [
        "type(nombre)"
      ],
      "metadata": {
        "id": "JZy1Q9Tl_PgL",
        "colab": {
          "base_uri": "https://localhost:8080/"
        },
        "outputId": "e1d366bd-95d7-4791-a6b2-2d72052f9b7e"
      },
      "execution_count": null,
      "outputs": [
        {
          "output_type": "execute_result",
          "data": {
            "text/plain": [
              "str"
            ]
          },
          "metadata": {},
          "execution_count": 52
        }
      ]
    },
    {
      "cell_type": "markdown",
      "source": [
        "La salida de este comando siempre será una *string*. Esto quiere decir que aunque capturemos un valor de variable numérica, este será de tipo string.\n",
        "\n",
        "Entonces, será necesario **convertir el resultado cuando no se desea utilizar el valor como tipo string**."
      ],
      "metadata": {
        "id": "7z7hcLCk_aCY"
      }
    },
    {
      "cell_type": "markdown",
      "source": [
        "Existen funciones para la conversión de valores:\n",
        "\n",
        "- Enteros: [`int(dato_para_conversion)`](https://docs.python.org/3/library/functions.html#int)\n",
        "- Coma flotante: [`float(dato_para_conversion)`](https://docs.python.org/3/library/functions.html#float)\n",
        "- String: [`str(dato_para_conversion)`](https://docs.python.org/3/library/functions.html#func-str)\n",
        "- Booleano: [`bool(dato_para_conversion)`](https://docs.python.org/3/library/functions.html#bool)"
      ],
      "metadata": {
        "id": "TOlegATj1Jfp"
      }
    },
    {
      "cell_type": "code",
      "source": [
        "ano_admision = int(input('Digita el año de admisión: '))"
      ],
      "metadata": {
        "id": "M2ueeH6l_NMe",
        "colab": {
          "base_uri": "https://localhost:8080/"
        },
        "outputId": "fa763b7f-7f59-4d7c-d5df-16b2a0e5b728"
      },
      "execution_count": null,
      "outputs": [
        {
          "name": "stdout",
          "output_type": "stream",
          "text": [
            "Digita el año de admisión: 2023\n"
          ]
        }
      ]
    },
    {
      "cell_type": "code",
      "source": [
        "type(ano_admision)"
      ],
      "metadata": {
        "id": "xfWwuViK_NUn",
        "colab": {
          "base_uri": "https://localhost:8080/"
        },
        "outputId": "4bd853d0-158e-462e-dc8b-460f0879ceea"
      },
      "execution_count": null,
      "outputs": [
        {
          "output_type": "execute_result",
          "data": {
            "text/plain": [
              "int"
            ]
          },
          "metadata": {},
          "execution_count": 59
        }
      ]
    },
    {
      "cell_type": "code",
      "source": [
        "nota_admision = float(input('Digita la nota de admision: '))"
      ],
      "metadata": {
        "id": "uFCHDyew_NZm",
        "colab": {
          "base_uri": "https://localhost:8080/"
        },
        "outputId": "dd08b768-1fda-4a12-d1eb-4fdf51fd73d3"
      },
      "execution_count": null,
      "outputs": [
        {
          "name": "stdout",
          "output_type": "stream",
          "text": [
            "Digita la nota de admision: 9.5\n"
          ]
        }
      ]
    },
    {
      "cell_type": "code",
      "source": [
        "type(nota_admision)"
      ],
      "metadata": {
        "colab": {
          "base_uri": "https://localhost:8080/"
        },
        "id": "lJw2sFHtkeSg",
        "outputId": "0cf1deb3-85a9-447f-f1b7-7faedd57f02c"
      },
      "execution_count": null,
      "outputs": [
        {
          "output_type": "execute_result",
          "data": {
            "text/plain": [
              "float"
            ]
          },
          "metadata": {},
          "execution_count": 65
        }
      ]
    },
    {
      "cell_type": "markdown",
      "source": [
        "Trataremos de representar mejor ahora el resultado de la transformación que obtuvimos. Nosotros podemos formatear y presentar nuestro resultado mezclando strings con valores no textuales.\n",
        "\n",
        "Para ello utilizamos la estructura de formatación `f` con strings."
      ],
      "metadata": {
        "id": "yNI2-XTbB3aS"
      }
    },
    {
      "cell_type": "code",
      "source": [
        "print(f'\\tEl año de admisión fue {ano_admision} \\n\\tLa nota de admisión fue: {nota_admision}')"
      ],
      "metadata": {
        "colab": {
          "base_uri": "https://localhost:8080/"
        },
        "id": "Ju1pCtk9lOka",
        "outputId": "8a78e7ed-baed-4c7e-fdb1-0c9f3595318e"
      },
      "execution_count": null,
      "outputs": [
        {
          "output_type": "stream",
          "name": "stdout",
          "text": [
            "\tEl año de admisión fue 2023 \n",
            "\tLa nota de admisión fue: 9.5\n"
          ]
        }
      ]
    },
    {
      "cell_type": "markdown",
      "source": [
        "#### Desafío 02. Manipulando datos en Python"
      ],
      "metadata": {
        "id": "5gSddo_ppO-8"
      }
    },
    {
      "cell_type": "code",
      "source": [
        "nombre = input ('Escribe tu nombre: ')\n",
        "print(f'Hola {nombre}!')"
      ],
      "metadata": {
        "id": "z87JTS6IpLkZ",
        "outputId": "82e53f1b-872f-4cd5-9ce0-0d6048008607",
        "colab": {
          "base_uri": "https://localhost:8080/"
        }
      },
      "execution_count": null,
      "outputs": [
        {
          "output_type": "stream",
          "name": "stdout",
          "text": [
            "Escribe tu nombre: Eunice\n",
            "Hola Eunice!\n"
          ]
        }
      ]
    },
    {
      "cell_type": "code",
      "source": [
        "nombre = input ('Escribe tu nombre: ')\n",
        "edad = int(input('Escribe tu edad: '))\n",
        "print(f'Hola {nombre}! Tienes {edad} años')"
      ],
      "metadata": {
        "id": "7m3Pl8JYpn8F",
        "outputId": "c3174ff1-baa6-40ff-ed26-cf1e0de14c01",
        "colab": {
          "base_uri": "https://localhost:8080/"
        }
      },
      "execution_count": null,
      "outputs": [
        {
          "output_type": "stream",
          "name": "stdout",
          "text": [
            "Escribe tu nombre: Eunice\n",
            "Escribe tu edad: 29\n",
            "Hola Eunice! Tienes 29 años\n"
          ]
        }
      ]
    },
    {
      "cell_type": "code",
      "source": [
        "nombre = input ('Escribe tu nombre: ')\n",
        "edad = int(input('Escribe tu edad: '))\n",
        "altura = float(input('Escribe tu altura: '))\n",
        "print(f'Hola {nombre}! Tienes {edad} años y mides {altura}m de altura')"
      ],
      "metadata": {
        "id": "Zp4Zgsl8p6NZ",
        "outputId": "2b6bbdc5-c6a1-4865-aff9-97552547cdc2",
        "colab": {
          "base_uri": "https://localhost:8080/"
        }
      },
      "execution_count": null,
      "outputs": [
        {
          "output_type": "stream",
          "name": "stdout",
          "text": [
            "Escribe tu nombre: Eunice\n",
            "Escribe tu edad: 29\n",
            "Escribe tu altura: 1.62\n",
            "Hola Eunice! Tienes 29 años y mides 1.62m de altura\n"
          ]
        }
      ]
    },
    {
      "cell_type": "code",
      "source": [
        "num1 = int(input('Escribe un número: '))\n",
        "num2 = int(input('Escribe otro número: '))\n",
        "print(f'La suma de los números es: {num1 + num2}')"
      ],
      "metadata": {
        "id": "-YxlSFQjqNuJ",
        "outputId": "0877464c-13fb-418b-ad7e-5e733762c574",
        "colab": {
          "base_uri": "https://localhost:8080/"
        }
      },
      "execution_count": null,
      "outputs": [
        {
          "output_type": "stream",
          "name": "stdout",
          "text": [
            "Escribe un número: 25\n",
            "Escribe otro número: 48\n",
            "La suma de los números es: 73\n"
          ]
        }
      ]
    },
    {
      "cell_type": "code",
      "source": [
        "num1 = int(input('Escribe un número: '))\n",
        "num2 = int(input('Escribe otro número: '))\n",
        "num3 = int(input('Escribe otro número: '))\n",
        "print(f'La suma de los números es: {num1 + num2 + num3}')"
      ],
      "metadata": {
        "id": "pa4gLncu-mvU",
        "colab": {
          "base_uri": "https://localhost:8080/"
        },
        "outputId": "d21f987f-dea2-43c6-9fd7-04b54af58a9e"
      },
      "execution_count": null,
      "outputs": [
        {
          "output_type": "stream",
          "name": "stdout",
          "text": [
            "Escribe un número: 5\n",
            "Escribe otro número: 8\n",
            "Escribe otro número: 94\n",
            "La suma de los números es: 107\n"
          ]
        }
      ]
    },
    {
      "cell_type": "code",
      "source": [
        "num1 = int(input('Escribe un número: '))\n",
        "num2 = int(input('Escribe otro número: '))\n",
        "print(f'La resta de {num1} menos {num2} es: {num1 - num2}')"
      ],
      "metadata": {
        "id": "_cWRmDiE-m4p",
        "colab": {
          "base_uri": "https://localhost:8080/"
        },
        "outputId": "5811a5a5-be5d-49b4-9ea6-3d332d3c7eb5"
      },
      "execution_count": null,
      "outputs": [
        {
          "output_type": "stream",
          "name": "stdout",
          "text": [
            "Escribe un número: 54\n",
            "Escribe otro número: 17\n",
            "La resta de 54 menos 17 es: 37\n"
          ]
        }
      ]
    },
    {
      "cell_type": "code",
      "source": [
        "num1 = int(input('Escribe un número: '))\n",
        "num2 = int(input('Escribe otro número: '))\n",
        "print(f'La multiplicación de los números es: {num1 * num2}')"
      ],
      "metadata": {
        "id": "_ADFyz28q4lP",
        "outputId": "50ae56a9-6a17-48b6-c1d6-789afff9f7bd",
        "colab": {
          "base_uri": "https://localhost:8080/"
        }
      },
      "execution_count": null,
      "outputs": [
        {
          "output_type": "stream",
          "name": "stdout",
          "text": [
            "Escribe un número: 5\n",
            "Escribe otro número: 4\n",
            "La multiplicación de los números es: 20\n"
          ]
        }
      ]
    },
    {
      "cell_type": "code",
      "source": [
        "numerador = int(input('Escribe el valor del numerador: '))\n",
        "denominador = int(input('Escribe el valor del denominador: '))\n",
        "print(f'La división de los números es: {numerador/denominador}')"
      ],
      "metadata": {
        "id": "clwn3WeFrD5y",
        "outputId": "89dc071b-6821-4790-a785-b54524c02134",
        "colab": {
          "base_uri": "https://localhost:8080/"
        }
      },
      "execution_count": null,
      "outputs": [
        {
          "output_type": "stream",
          "name": "stdout",
          "text": [
            "Escribe el valor del numerador: 84\n",
            "Escribe el valor del denominador: 9\n",
            "La división de los números es: 9.333333333333334\n"
          ]
        }
      ]
    },
    {
      "cell_type": "code",
      "source": [
        "operador = int(input('Escribe el valor del operador: '))\n",
        "potencia = int(input('Escribe el valor de la potencia: '))\n",
        "print(f'La exponenciación de los números es: {operador ** potencia}')"
      ],
      "metadata": {
        "id": "ocSh_AsgrVP8",
        "outputId": "ef3d11c5-f3d7-4d43-8599-accfaf9f196f",
        "colab": {
          "base_uri": "https://localhost:8080/"
        }
      },
      "execution_count": null,
      "outputs": [
        {
          "output_type": "stream",
          "name": "stdout",
          "text": [
            "Escribe el valor del operador: 9\n",
            "Escribe el valor de la potencia: 3\n",
            "La exponenciación de los números es: 729\n"
          ]
        }
      ]
    },
    {
      "cell_type": "code",
      "source": [
        "#División entera sólo devuelve el entero sin los decimales\n",
        "numerador = int(input('Escribe el valor del numerador: '))\n",
        "denominador = int(input('Escribe el valor del denominador: '))\n",
        "print(f'La división de los números es: {numerador//denominador}')"
      ],
      "metadata": {
        "id": "vtEYsdsgr0zP",
        "outputId": "cb55e493-a7dd-404b-df39-f5dfddea3f85",
        "colab": {
          "base_uri": "https://localhost:8080/"
        }
      },
      "execution_count": null,
      "outputs": [
        {
          "output_type": "stream",
          "name": "stdout",
          "text": [
            "Escribe el valor del numerador: 84\n",
            "Escribe el valor del denominador: 9\n",
            "La división de los números es: 9\n"
          ]
        }
      ]
    },
    {
      "cell_type": "code",
      "source": [
        "#División residuo sólo devuelve el residuo de la división entera\n",
        "numerador = int(input('Escribe el valor del numerador: '))\n",
        "denominador = int(input('Escribe el valor del denominador: '))\n",
        "print(f'La división de los números es: {numerador%denominador}')"
      ],
      "metadata": {
        "id": "VSwg50PbsDM_",
        "outputId": "67ec9321-0b73-481f-81a9-7679aa1bea2f",
        "colab": {
          "base_uri": "https://localhost:8080/"
        }
      },
      "execution_count": null,
      "outputs": [
        {
          "output_type": "stream",
          "name": "stdout",
          "text": [
            "Escribe el valor del numerador: 84\n",
            "Escribe el valor del denominador: 9\n",
            "La división de los números es: 3\n"
          ]
        }
      ]
    },
    {
      "cell_type": "code",
      "source": [
        "calif_1 = int(input('Escribe la calificación 1: '))\n",
        "calif_2 = int(input('Escribe la calificación 2: '))\n",
        "calif_3 = int(input('Escribe la calificación 3: '))\n",
        "promedio = (calif_1 + calif_2 + calif_3)/3\n",
        "print(f'El promedio es: {(promedio)}')"
      ],
      "metadata": {
        "id": "6cxLivm8sS5T",
        "outputId": "c25fccb7-ec66-445e-d3ea-3437394ab476",
        "colab": {
          "base_uri": "https://localhost:8080/"
        }
      },
      "execution_count": null,
      "outputs": [
        {
          "output_type": "stream",
          "name": "stdout",
          "text": [
            "Escribe la calificación 1: 8\n",
            "Escribe la calificación 2: 9\n",
            "Escribe la calificación 3: 7\n",
            "El promedio es: 8.0\n"
          ]
        }
      ]
    },
    {
      "cell_type": "code",
      "source": [
        "frase = 'Este es el ejercicio 14'\n",
        "print(frase)"
      ],
      "metadata": {
        "id": "MrM0rdphs0Rl",
        "outputId": "fa42a30f-5e49-4108-e639-379a824a6752",
        "colab": {
          "base_uri": "https://localhost:8080/"
        }
      },
      "execution_count": null,
      "outputs": [
        {
          "output_type": "stream",
          "name": "stdout",
          "text": [
            "Este es el ejercicio 14\n"
          ]
        }
      ]
    },
    {
      "cell_type": "code",
      "source": [
        "frase = input('Coloca una frase: ')\n",
        "print(frase)"
      ],
      "metadata": {
        "id": "MczBFmGSs8Vo",
        "outputId": "f75d7d18-07fb-4244-a509-a497c5f6c1a1",
        "colab": {
          "base_uri": "https://localhost:8080/"
        }
      },
      "execution_count": null,
      "outputs": [
        {
          "output_type": "stream",
          "name": "stdout",
          "text": [
            "Coloca una frase: Este es el ejercicio 15\n",
            "Este es el ejercicio 15\n"
          ]
        }
      ]
    },
    {
      "cell_type": "code",
      "source": [
        "#Frase con mayusculas\n",
        "frase = input('Coloca una frase: ')\n",
        "print(frase.upper())"
      ],
      "metadata": {
        "id": "6I-Zj84dtEKV",
        "outputId": "d0fe1860-9805-4c0c-a214-a58aec77f4c7",
        "colab": {
          "base_uri": "https://localhost:8080/"
        }
      },
      "execution_count": null,
      "outputs": [
        {
          "output_type": "stream",
          "name": "stdout",
          "text": [
            "Coloca una frase: ejercicio 16\n",
            "EJERCICIO 16\n"
          ]
        }
      ]
    },
    {
      "cell_type": "code",
      "source": [
        "#Frase con minusculas\n",
        "frase = input('Coloca una frase: ')\n",
        "print(frase.lower())"
      ],
      "metadata": {
        "id": "mKVulWVCtYbg",
        "outputId": "b7d06fea-f8fc-43eb-ecaa-aecf7633a40a",
        "colab": {
          "base_uri": "https://localhost:8080/"
        }
      },
      "execution_count": null,
      "outputs": [
        {
          "output_type": "stream",
          "name": "stdout",
          "text": [
            "Coloca una frase: EJERCICIO 17\n",
            "ejercicio 17\n"
          ]
        }
      ]
    },
    {
      "cell_type": "code",
      "source": [
        "#Frase sin espacios en blanco al inicio y al final\n",
        "frase = ' Este es el ejercicio 18 '\n",
        "print(frase.strip())"
      ],
      "metadata": {
        "id": "ne266bB-ti3H",
        "outputId": "c6a6347b-634c-4078-e040-c11aea4adc93",
        "colab": {
          "base_uri": "https://localhost:8080/"
        }
      },
      "execution_count": null,
      "outputs": [
        {
          "output_type": "stream",
          "name": "stdout",
          "text": [
            "Este es el ejercicio 18\n"
          ]
        }
      ]
    },
    {
      "cell_type": "code",
      "source": [
        "#Frase de usuario sin espacios en blanco al inicio y al final\n",
        "frase = input('Ingresa una frase: ')\n",
        "print(frase.strip())"
      ],
      "metadata": {
        "id": "TdzUwqg-t34t",
        "outputId": "e5972d30-022d-4509-c4a1-ca83300ec2e3",
        "colab": {
          "base_uri": "https://localhost:8080/"
        }
      },
      "execution_count": null,
      "outputs": [
        {
          "output_type": "stream",
          "name": "stdout",
          "text": [
            "Ingresa una frase:  Esta frase tiene espacios al inicio y al final \n",
            "Esta frase tiene espacios al inicio y al final\n"
          ]
        }
      ]
    },
    {
      "cell_type": "code",
      "source": [
        "#20. Frase de usuario sin espacios en blanco al inicio y al final y en minusculas\n",
        "frase = input('Ingresa una frase: ')\n",
        "print(frase.strip().lower())"
      ],
      "metadata": {
        "id": "jbVgmxAiuFSZ",
        "outputId": "6ea2b9bf-0638-41e6-9fe5-63ddd2a4206a",
        "colab": {
          "base_uri": "https://localhost:8080/"
        }
      },
      "execution_count": null,
      "outputs": [
        {
          "output_type": "stream",
          "name": "stdout",
          "text": [
            "Ingresa una frase:  Tiene espacios y MAYUSCULAS \n",
            "tiene espacios y mayusculas\n"
          ]
        }
      ]
    },
    {
      "cell_type": "code",
      "source": [
        "#21. Solicita frase y reemplaza todas las e por f\n",
        "frase = input('Ingresa una frase: ')\n",
        "print(frase.replace('e', 'f'))"
      ],
      "metadata": {
        "id": "xYEUqrcnuSb5",
        "outputId": "e9d79359-5bb7-48b2-c854-8e088700217d",
        "colab": {
          "base_uri": "https://localhost:8080/"
        }
      },
      "execution_count": null,
      "outputs": [
        {
          "output_type": "stream",
          "name": "stdout",
          "text": [
            "Ingresa una frase: Esta frase cambia todas las vocales e por la letra f\n",
            "Esta frasf cambia todas las vocalfs f por la lftra f\n"
          ]
        }
      ]
    },
    {
      "cell_type": "code",
      "source": [
        "#22. Solicita frase y reemplaza todas las a por @\n",
        "frase = input('Ingresa una frase: ')\n",
        "print(frase.replace('a', '@'))"
      ],
      "metadata": {
        "id": "NhXVcPjOuem8",
        "outputId": "42579b52-9084-4670-cc9d-c25000c8e46d",
        "colab": {
          "base_uri": "https://localhost:8080/"
        }
      },
      "execution_count": null,
      "outputs": [
        {
          "output_type": "stream",
          "name": "stdout",
          "text": [
            "Ingresa una frase: Esta cambia las a por arrobas\n",
            "Est@ c@mbi@ l@s @ por @rrob@s\n"
          ]
        }
      ]
    },
    {
      "cell_type": "code",
      "source": [
        "#23. Solicita frase y reemplaza todas las s por $\n",
        "frase = input('Ingresa una frase: ')\n",
        "print(frase.replace('s', '$'))"
      ],
      "metadata": {
        "id": "yMLafZFHuq_O",
        "outputId": "ee081bea-963b-4102-a516-1866bd8577e5",
        "colab": {
          "base_uri": "https://localhost:8080/"
        }
      },
      "execution_count": null,
      "outputs": [
        {
          "output_type": "stream",
          "name": "stdout",
          "text": [
            "Ingresa una frase: Esta reemplaza la letra ese por $\n",
            "E$ta reemplaza la letra e$e por $\n"
          ]
        }
      ]
    },
    {
      "cell_type": "markdown",
      "source": [
        "#Estructuras condicionales"
      ],
      "metadata": {
        "id": "fGPP7D8Zp92k"
      }
    },
    {
      "cell_type": "code",
      "source": [
        "# Nota de aprobación entre 7 y 10 == Nota de aprobación >= 7\n",
        "#Nota de reprobación es menor a 7 == Nota de reprobación < 7\n",
        "\n",
        "'''\n",
        "Si la nota es mayor o igual a 7 entonces el estudiante aprueba\n",
        "Si no, el estudiante reprueba\n",
        "'''"
      ],
      "metadata": {
        "id": "N2ClPIuoqHYj",
        "outputId": "fec53dd8-85f8-456a-eb79-6f0e4f91ee24",
        "colab": {
          "base_uri": "https://localhost:8080/",
          "height": 36
        }
      },
      "execution_count": null,
      "outputs": [
        {
          "output_type": "execute_result",
          "data": {
            "text/plain": [
              "'\\nSi la nota es mayor o igual a 7 entonces el estudiante aprueba\\nSi no, el estudiante reprueba\\n'"
            ],
            "application/vnd.google.colaboratory.intrinsic+json": {
              "type": "string"
            }
          },
          "metadata": {},
          "execution_count": 1
        }
      ]
    },
    {
      "cell_type": "markdown",
      "source": [
        "## `IF` y `ELSE`\n",
        "\n",
        "Los comandos `if` y `else` son dos estructuras condicionales. El comando `if` ejecutará el bloque de comandos en caso de que la condición citada sea  **verdadera**. El comando `else` ejecutará el bloque de comandos en el caso de que la condicional de `if` sea **falsa**."
      ],
      "metadata": {
        "id": "qXZqg9aYEhAh"
      }
    },
    {
      "cell_type": "markdown",
      "source": [
        "El comando `if` es una palabra clave en Python que significa \"si\". Este se emplea para conformar la estructura condicional, que te permite verificar si una determinada condición es verdadera o falsa e, inmediatamente después, ejecute un bloque de código específico dependiendo del resultado de la verificación. La sintaxis para usar el comando `if` es:\n",
        "\n",
        "\n",
        "\n",
        "```\n",
        "if condicion:\n",
        "    # Realiza algo\n",
        "```\n",
        "\n"
      ],
      "metadata": {
        "id": "EIhlqHXd2Gil"
      }
    },
    {
      "cell_type": "code",
      "source": [
        "if 2 < 7:\n",
        "  print('La condicion es verdadera.')"
      ],
      "metadata": {
        "id": "S2S6XAFz-czM",
        "outputId": "9fc484de-c8a3-43dd-a5b9-c2b2b7e86d9c",
        "colab": {
          "base_uri": "https://localhost:8080/"
        }
      },
      "execution_count": null,
      "outputs": [
        {
          "output_type": "stream",
          "name": "stdout",
          "text": [
            "La condicion es verdadera.\n"
          ]
        }
      ]
    },
    {
      "cell_type": "code",
      "source": [
        "if 2 > 7:\n",
        "  print('La condicion es verdadera.')\n"
      ],
      "metadata": {
        "id": "YHkwMMyY-c1r"
      },
      "execution_count": null,
      "outputs": []
    },
    {
      "cell_type": "markdown",
      "source": [
        "Ya el comando `else` en Python se usa en junción con la palabra clave `if` para formar una estructura condicional. la sintaxis para usar el `else` es:\n",
        "\n",
        "```\n",
        "if condicion:\n",
        "  # codigo en caso de que sea verdad\n",
        "else:\n",
        "  # codigo en caso de que sea falso\n",
        "```\n",
        "\n",
        "el comando `else` se ejecuta cuando la condición verificada por el `if` es evaluada como `False`."
      ],
      "metadata": {
        "id": "27RW2v_sIKct"
      }
    },
    {
      "cell_type": "code",
      "source": [
        "if 2 > 7:\n",
        "  print('La condicion es verdadera.')\n",
        "else:\n",
        "  print('La condicion es falsa.')\n",
        "print('Fin de la consulta')"
      ],
      "metadata": {
        "id": "ZTfNJd_f-aOq",
        "outputId": "2ca8508e-9308-46b6-eb52-fc6b8f6b5650",
        "colab": {
          "base_uri": "https://localhost:8080/"
        }
      },
      "execution_count": null,
      "outputs": [
        {
          "output_type": "stream",
          "name": "stdout",
          "text": [
            "La condicion es falsa.\n",
            "Fin de la consulta\n"
          ]
        }
      ]
    },
    {
      "cell_type": "markdown",
      "source": [
        "---\n",
        "**Situación:**\n",
        "\n",
        "Recibiremos el promedio de la nota de los estudiantes y necesitamos de un algoritmo que ejecute el análisis y determine si el estudiante fue **Aprobado** o **Reprobado**, mostrando un mensaje del resultado. Para ser aprobado, el promedio necesita ser igual o superior a 7.0."
      ],
      "metadata": {
        "id": "BqORg85XX-Nl"
      }
    },
    {
      "cell_type": "code",
      "source": [
        "promedio = float(input('Digita la nota: '))\n",
        "\n",
        "if promedio >= 7:\n",
        "  print('Aprobado')\n",
        "else:\n",
        "  print('Reprobado')"
      ],
      "metadata": {
        "id": "UukCN4AQ-YYW",
        "outputId": "18d0e17d-effb-49d2-8af7-13373acd7ccb",
        "colab": {
          "base_uri": "https://localhost:8080/"
        }
      },
      "execution_count": null,
      "outputs": [
        {
          "output_type": "stream",
          "name": "stdout",
          "text": [
            "Digita la nota: 6\n",
            "Reprobado\n"
          ]
        }
      ]
    },
    {
      "cell_type": "markdown",
      "source": [
        "Ahora, nuestra institución educativa estableció que las personas que tengan el promedio entre 5.0 y 7.0 pueden participar del curso de **Recuperación** durante las vacaciones para lograr aprobar.\n",
        "\n",
        "Entonces podemos apoyarnos en un conjunto de `if`s para poder estructurar esta nueva condición."
      ],
      "metadata": {
        "id": "bD9O17HB6LUo"
      }
    },
    {
      "cell_type": "code",
      "source": [
        "promedio = float(input('Digita la nota: '))\n",
        "\n",
        "if promedio >= 7:\n",
        "  print('Aprobado')\n",
        "if promedio >=5:\n",
        "  print('Con derecho a recuperación')\n",
        "if promedio <5:\n",
        "  print('Reprobado')"
      ],
      "metadata": {
        "id": "G9cJ5O9--W52"
      },
      "execution_count": null,
      "outputs": []
    },
    {
      "cell_type": "markdown",
      "source": [
        "Observa que en casos con 3 situaciones como este necesitamos definir bien nuestras condiciones. Pues, si realizamos una condición con `else` al final, este irá a considerar solamente la condición `if` inmediatamente anterior para generar la salida en caso de que el resultado de su operación lógica sea **falso** dando como resultado, dos o más ejecuciones.\n",
        "\n",
        "Por ejemplo:"
      ],
      "metadata": {
        "id": "D5e2mByjvycO"
      }
    },
    {
      "cell_type": "code",
      "source": [
        "promedio = float(input('Digita la nota: '))\n",
        "\n",
        "if promedio >= 7:\n",
        "  print('Aprobado')\n",
        "if 7 > promedio >=5:\n",
        "  print('Con derecho a recuperación')\n",
        "else:\n",
        "  print('Reprobado') #El else ya sólo considera la última condición"
      ],
      "metadata": {
        "id": "C21JmOuK-VU8",
        "outputId": "4827b7c2-40b2-433c-a80d-f06fb18e7c52",
        "colab": {
          "base_uri": "https://localhost:8080/"
        }
      },
      "execution_count": null,
      "outputs": [
        {
          "output_type": "stream",
          "name": "stdout",
          "text": [
            "Digita la nota: 8\n",
            "Aprobado\n",
            "Reprobado\n"
          ]
        }
      ]
    },
    {
      "cell_type": "markdown",
      "source": [
        "## `ELIF`\n",
        "\n",
        "El comando `elif` es una palabra clave en Python que significa \"si no, si\" y lo podemos considerar una *contracción* entre `else` e `if`. Se utiliza en conjunto con la palabra clave `if` para formar una estructura condicional en cadena."
      ],
      "metadata": {
        "id": "04T5g-7h4zWx"
      }
    },
    {
      "cell_type": "markdown",
      "source": [
        "la sintaxis para utilizar el comando `elif` es:\n",
        "\n",
        "```\n",
        "if condicion1:\n",
        "    # Realiza algo\n",
        "elif condicion2:\n",
        "    # Realiza otra cosa\n",
        "elif condicion3:\n",
        "    # Realiza otra cosa\n",
        "else:\n",
        "    # Realiza algo diferente\n",
        "```\n",
        "\n",
        "El comando `elif` permite que puedas verificar varias condiciones en cadena, economizando espacio en tu código. Si la primera condición se evalúa como `False`, el interpretador de Python evaluará la próxima condición con el `elif`. Ello continuará hasta que una condición sea evaluada como `True` o hasta que el `else` sea alcazado. Si ninguna de las condiciones es evaluada como `True`, la ejecución del código del comando `else` será iniciada."
      ],
      "metadata": {
        "id": "rNBHr5mm1Lm6"
      }
    },
    {
      "cell_type": "markdown",
      "source": [
        "Vamos a emplear el mismo caso anterior:"
      ],
      "metadata": {
        "id": "MVoykFbB4bd4"
      }
    },
    {
      "cell_type": "code",
      "source": [
        "promedio = float(input('Digita la nota: '))\n",
        "\n",
        "if promedio >= 7:\n",
        "  print('Aprobado')\n",
        "elif 7 > promedio >=5:\n",
        "  print('Con derecho a recuperación')\n",
        "else:\n",
        "  print('Reprobado')"
      ],
      "metadata": {
        "id": "QFamB78s-TW_",
        "outputId": "da6319ce-0f6b-4de4-e0e8-5f40c44b49fa",
        "colab": {
          "base_uri": "https://localhost:8080/"
        }
      },
      "execution_count": null,
      "outputs": [
        {
          "output_type": "stream",
          "name": "stdout",
          "text": [
            "Digita la nota: 4.6\n",
            "Reprobado\n"
          ]
        }
      ]
    },
    {
      "cell_type": "markdown",
      "source": [
        "## Operadores\n",
        "\n",
        "Durante la construcción de comandos a veces necesitamos de una elaboración mayor de la expresión condicional, necesitando que algunos operadores lógicos se encuentren integrados."
      ],
      "metadata": {
        "id": "Tf1wSOem6iwZ"
      }
    },
    {
      "cell_type": "markdown",
      "source": [
        "### `AND`, `OR`, `NOT`\n",
        "\n",
        "Los operadores lógicos `and`, `or` y `not` son usados para combinar expresiones lógicas en Python. Ellos son usados frecuentemente en conjunto con el comando `if` para crear estructuras condicionales más complejas.\n"
      ],
      "metadata": {
        "id": "GFIZnRWXGPWO"
      }
    },
    {
      "cell_type": "markdown",
      "source": [
        "- `AND` es usado para verificar si dos condiciones son verdaderas. La expresión lógica¹ `x and y` se evalúa como `True` tan solo si **ambas condiciones `x` y `y` son verdaderas**, y como `False` en caso contrario.\n",
        "\n",
        "- `OR` es usado para verificar si al menos una de las condiciones es verdadera. La expresión lógica `x or y` se evalúa como `True` **si al menos una de las condiciones `x` o `y` es verdadera**, y como `False` si ambas condiciones son falsas.\n",
        "\n",
        "- `NOT` es usado para **negar una condición**. La expresión lógica `not x` es evaluada como `True` si la condición x es falsa, y como `False` si la condición x es verdadera.\n",
        "\n",
        "¹ Una expresión lógica es una declaración que puede ser evaluada como verdadera o falsa. Ella se compone por operandos lógicos² y por operadores lógicos³, que son usados ​​para combinar varias expresiones lógicas en una única expresión.\n",
        "\n",
        "² Los operandos lógicos son los elementos que son comparados o evaluados en una expresión lógica. Ellos son generalmente valores verdaderos o falsos, pero también pueden ser expresiones lógicas más complejas. En Python, los operandos lógicos son los valores `True` y `False`.\n",
        "\n",
        "³ Los operadores lógicos son ls símbolos o palabras clave que son usados ​​para combinar varias expresiones lógicas en una única expresión. En Python, los operadores lógicos son `and`, `or` y `not`, bien como las palabras clave `if`, `elif` e `else`."
      ],
      "metadata": {
        "id": "Z_dgAoHXJbzB"
      }
    },
    {
      "cell_type": "markdown",
      "source": [
        "> Operadores lógicos más comunes\n",
        "\n",
        "|a|b|AND|OR|NOT|\n",
        "|-|-|-|-|-|\n",
        "|0|0|0|0|1\n",
        "|0|1|0|1|-\n",
        "|1|0|0|1|-\n",
        "|1|1|1|1|0\n"
      ],
      "metadata": {
        "id": "2E5aUogf-49u"
      }
    },
    {
      "cell_type": "code",
      "source": [
        "v = True\n",
        "f = False"
      ],
      "metadata": {
        "id": "DFKmpvmS-Pa6"
      },
      "execution_count": null,
      "outputs": []
    },
    {
      "cell_type": "code",
      "source": [
        "if f and f:\n",
        "  print('La condición es verdadera')\n",
        "else:\n",
        "  print('La condición es falsa')"
      ],
      "metadata": {
        "id": "W5BIrpOD-PeI",
        "outputId": "0af624dc-f98c-48fb-853c-daf1124ea90a",
        "colab": {
          "base_uri": "https://localhost:8080/"
        }
      },
      "execution_count": null,
      "outputs": [
        {
          "output_type": "stream",
          "name": "stdout",
          "text": [
            "La condición es falsa\n"
          ]
        }
      ]
    },
    {
      "cell_type": "code",
      "source": [
        "if f or v:\n",
        "  print('La condición es verdadera')\n",
        "else:\n",
        "  print('La condición es falsa')"
      ],
      "metadata": {
        "id": "fpDhYxq4-PiM",
        "outputId": "0464c539-181d-43d2-ff2a-296a0f977255",
        "colab": {
          "base_uri": "https://localhost:8080/"
        }
      },
      "execution_count": null,
      "outputs": [
        {
          "output_type": "stream",
          "name": "stdout",
          "text": [
            "La condición es verdadera\n"
          ]
        }
      ]
    },
    {
      "cell_type": "code",
      "source": [
        "if not f:\n",
        "  print('La condición es verdadera')\n",
        "else:\n",
        "  print('La condición es falsa')"
      ],
      "metadata": {
        "id": "v_kz0ig43T9b",
        "outputId": "e12d656b-30c1-4a7e-a695-d7eab41da986",
        "colab": {
          "base_uri": "https://localhost:8080/"
        }
      },
      "execution_count": null,
      "outputs": [
        {
          "output_type": "stream",
          "name": "stdout",
          "text": [
            "La condición es verdadera\n"
          ]
        }
      ]
    },
    {
      "cell_type": "markdown",
      "source": [
        "### `IN`\n",
        "\n",
        "Es usado para verificar si un elemento está presente en una lista, tupla u otra colección de conjunto. La expresión `x in y` se evalúa como `True` si el elemento `x` esta presente en la variable de conjunto `y`, y como `False` en caso contrario."
      ],
      "metadata": {
        "id": "w7EXG1dhWtja"
      }
    },
    {
      "cell_type": "markdown",
      "source": [
        "Podemos verificarlo con variables de texto.\n",
        "\n",
        "---\n",
        "\n",
        "**Situación:**\n",
        "\n",
        "En la escuela nos entregaron una lista con nombres de estudiantes que fueron aprobados según el promedio del semestre, pero es necesario verificar si algunos nombres están en esa lista para confirmar que los datos estén correctos.\n",
        "\n",
        "La lista distribuida puede ser observada a continuación:\n",
        "\n",
        "```\n",
        "lista = 'Juan Pérez, María González, Pedro Rodríguez, Ana López, Carlos Martínez,\n",
        "    Laura Sánchez, José García, Elena Fernández, Luis Morales, Carmen Torres,\n",
        "    David Ruiz, Isabel Ramírez, Javier Díaz, Sara Herrera, Miguel Castro,\n",
        "    Patricia Ortega, Francisco Vargas, Marta Jiménez, Manuel Medina, Rosa Molina,\n",
        "    Alejandro Silva, Silvia Ruiz, Andrés Torres, Natalia Soto, Diego Guerrero,\n",
        "    Paula Ríos, Ricardo Navarro, Alicia Cordero, Carlos Vidal, Lorena Gómez'\n",
        "```\n",
        "\n",
        "Los nombres que necesitas verificar son los siguientes:\n",
        "\n",
        "```\n",
        "nombre_1 = 'Miguel Castro'\n",
        "nombre_2 = 'Marcelo Noguera'\n",
        "```"
      ],
      "metadata": {
        "id": "enJNp6JenQbq"
      }
    },
    {
      "cell_type": "code",
      "source": [
        "lista = 'Juan Pérez, María González, Pedro Rodríguez, Ana López, Carlos Martínez, Laura Sánchez, José García, Elena Fernández, Luis Morales, Carmen Torres, David Ruiz, Isabel Ramírez, Javier Díaz, Sara Herrera, Miguel Castro, Patricia Ortega, Francisco Vargas, Marta Jiménez, Manuel Medina, Rosa Molina, Alejandro Silva, Silvia Ruiz, Andrés Torres, Natalia Soto, Diego Guerrero, Paula Ríos, Ricardo Navarro, Alicia Cordero, Carlos Vidal, Lorena Gómez'"
      ],
      "metadata": {
        "id": "gPPN9BCT-Mki"
      },
      "execution_count": null,
      "outputs": []
    },
    {
      "cell_type": "code",
      "source": [
        "nombre_1 = 'Miguel Castro'\n",
        "nombre_2 = 'Marcelo Noguera'"
      ],
      "metadata": {
        "id": "GINbG3Fa-Mnb"
      },
      "execution_count": null,
      "outputs": []
    },
    {
      "cell_type": "code",
      "source": [
        "if nombre_1 in lista:\n",
        "  print('El estudiante aprobó')\n",
        "else:\n",
        "  print('El estudiante no aprobó')"
      ],
      "metadata": {
        "id": "hk-RhNRT-Mp7",
        "outputId": "696afdd3-6ed8-405d-a98f-9212798c2082",
        "colab": {
          "base_uri": "https://localhost:8080/"
        }
      },
      "execution_count": null,
      "outputs": [
        {
          "output_type": "stream",
          "name": "stdout",
          "text": [
            "El estudiante aprobó\n"
          ]
        }
      ]
    },
    {
      "cell_type": "code",
      "source": [
        "if nombre_2 in lista:\n",
        "  print('El estudiante aprobó')\n",
        "else:\n",
        "  print('El estudiante no aprobó')"
      ],
      "metadata": {
        "id": "q04eNeCf4XMl",
        "outputId": "99b77548-a3cb-4884-d1e6-f83b477f4bf1",
        "colab": {
          "base_uri": "https://localhost:8080/"
        }
      },
      "execution_count": null,
      "outputs": [
        {
          "output_type": "stream",
          "name": "stdout",
          "text": [
            "El estudiante no aprobó\n"
          ]
        }
      ]
    },
    {
      "cell_type": "markdown",
      "source": [
        "###Desafío 3. Estructuras condicionales"
      ],
      "metadata": {
        "id": "fih_v-e74uqy"
      }
    },
    {
      "cell_type": "code",
      "source": [
        "numero_1 = int(input('Escribe un número: '))\n",
        "numero_2 = int(input('Escribe otro número: '))\n",
        "\n",
        "if numero_1 > numero_2:\n",
        "  print(f'El número mayor es: {numero_1}')\n",
        "else:\n",
        "  print(f'El número mayor es: {numero_2}')"
      ],
      "metadata": {
        "id": "XM-dHoe66xJ1",
        "outputId": "73291e95-373c-4807-8023-78e80f409614",
        "colab": {
          "base_uri": "https://localhost:8080/"
        }
      },
      "execution_count": null,
      "outputs": [
        {
          "output_type": "stream",
          "name": "stdout",
          "text": [
            "Escribe un número: 5\n",
            "Escribe otro número: 6\n",
            "El número mayor es: 6\n"
          ]
        }
      ]
    },
    {
      "cell_type": "code",
      "source": [
        "crecimiento_produccion = float(input('Escribe el crecimiento de producción: '))\n",
        "if crecimiento_produccion > 0:\n",
        "  print('Hubo crecimiento en la producción')\n",
        "elif crecimiento_produccion == 0:\n",
        "  print('No hubo crecimiento ni disminución en la producción')\n",
        "else:\n",
        "  print('Hubo disminución en la producción')"
      ],
      "metadata": {
        "id": "h6zPuz8J7VJr",
        "outputId": "7346eb07-511f-40ab-fb5f-af1c9d922e6f",
        "colab": {
          "base_uri": "https://localhost:8080/"
        }
      },
      "execution_count": null,
      "outputs": [
        {
          "output_type": "stream",
          "name": "stdout",
          "text": [
            "Escribe el crecimiento de producción: 8.3\n",
            "Hubo crecimiento en la producción\n"
          ]
        }
      ]
    },
    {
      "cell_type": "code",
      "source": [
        "letra = input('Escribe una letra: ')\n",
        "if letra == 'a' or letra == 'A' or letra == 'e' or letra == 'E' or letra == 'i' or letra == 'I' or letra == 'o' or letra == 'O' or letra == 'u' or letra == 'U':\n",
        "  print('La letra es una vocal')\n",
        "else:\n",
        "  print('La letra es una consonante')"
      ],
      "metadata": {
        "id": "4IX0rN0P7U6e",
        "outputId": "506664ea-6ba6-4590-8658-5a2c46e90ef5",
        "colab": {
          "base_uri": "https://localhost:8080/"
        }
      },
      "execution_count": null,
      "outputs": [
        {
          "output_type": "stream",
          "name": "stdout",
          "text": [
            "Escribe una letra: a\n",
            "La letra es una vocal\n"
          ]
        }
      ]
    },
    {
      "cell_type": "code",
      "source": [
        "valor_1 = int(input('Ingresa el promedio del primer año: '))\n",
        "valor_2 = int(input('Ingresa el promedio del segundo año: '))\n",
        "valor_3 = int(input('Ingresa el promedio del tercer año: '))\n",
        "\n",
        "if valor_1 >= valor_2 and valor_1 >= valor_3:\n",
        "  print(f'El promedio más alto fue: {valor_1}')\n",
        "elif valor_2 >= valor_1 and valor_2 >= valor_3:\n",
        "  print(f'El promedio más alto fue: {valor_2}')\n",
        "else:\n",
        "  print(f'El promedio más alto fue: {valor_3}')\n",
        "\n",
        "if valor_1 < valor_2 and valor_1 < valor_3:\n",
        "  print(f'El promedio más bajo fue: {valor_1}')\n",
        "elif valor_2 < valor_1 and valor_2 < valor_3:\n",
        "  print(f'El promedio más bajo fue: {valor_2}')\n",
        "else:\n",
        "  print(f'El promedio más bajo fue: {valor_3}')"
      ],
      "metadata": {
        "id": "j7mIWJQV7UIy",
        "outputId": "310555e4-9b43-40ea-8017-647fbebd8f44",
        "colab": {
          "base_uri": "https://localhost:8080/"
        }
      },
      "execution_count": null,
      "outputs": [
        {
          "output_type": "stream",
          "name": "stdout",
          "text": [
            "Ingresa el promedio del primer año: 800\n",
            "Ingresa el promedio del segundo año: 900\n",
            "Ingresa el promedio del tercer año: 500\n",
            "El promedio más alto fue: 900\n",
            "El promedio más bajo fue: 500\n"
          ]
        }
      ]
    },
    {
      "cell_type": "code",
      "source": [
        "producto_1 = int(input('Escribe el precio del primer producto: '))\n",
        "producto_2 = int(input('Escribe el precio del segundo producto: '))\n",
        "producto_3 = int(input('Escribe el precio del tercer producto: '))\n",
        "\n",
        "if producto_1 < producto_2 and producto_1 < producto_3:\n",
        "  print('El producto más barato es el primero')\n",
        "elif producto_2 < producto_1 and producto_2 < producto_3:\n",
        "  print('El producto más barato es el segundo')\n",
        "else:\n",
        "  print('El producto más barato es el tercero')"
      ],
      "metadata": {
        "id": "Y7USd-04_RrL",
        "outputId": "9ec293f6-920c-4b65-c8a1-d4da5c25a908",
        "colab": {
          "base_uri": "https://localhost:8080/"
        }
      },
      "execution_count": null,
      "outputs": [
        {
          "output_type": "stream",
          "name": "stdout",
          "text": [
            "Escribe el precio del primer producto: 15\n",
            "Escribe el precio del segundo producto: 26\n",
            "Escribe el precio del tercer producto: 8\n",
            "El producto más barato es el tercero\n"
          ]
        }
      ]
    },
    {
      "cell_type": "code",
      "source": [
        "numero_1 = int(input('Escribe el primer número: '))\n",
        "numero_2 = int(input('Escribe el segundo número: '))\n",
        "numero_3 = int(input('Escribe el tercer número: '))\n",
        "\n",
        "if numero_1 >= numero_2 and numero_1 >= numero_3:\n",
        "  print(numero_1)\n",
        "  if numero_2 >= numero_3:\n",
        "    print(numero_2)\n",
        "    print(numero_3)\n",
        "  else:\n",
        "    print(numero_3)\n",
        "    print(numero_2)\n",
        "elif numero_2 >= numero_1 and numero_2 >= numero_3:\n",
        "  print(numero_2)\n",
        "  if numero_1 >= numero_3:\n",
        "    print(numero_1)\n",
        "    print(numero_3)\n",
        "  else:\n",
        "    print(numero_3)\n",
        "    print(numero_1)\n",
        "else:\n",
        "  print(f'{numero_3}')\n",
        "  if numero_1 >= numero_2:\n",
        "    print(numero_1)\n",
        "    print(numero_2)\n",
        "  else:\n",
        "    print(numero_2)\n",
        "    print(numero_1)"
      ],
      "metadata": {
        "id": "ZFNBQhka_RLO",
        "outputId": "8669f2e9-a236-4257-8b46-065d9909687d",
        "colab": {
          "base_uri": "https://localhost:8080/"
        }
      },
      "execution_count": null,
      "outputs": [
        {
          "output_type": "stream",
          "name": "stdout",
          "text": [
            "Escribe el primer número: 56\n",
            "Escribe el segundo número: 25\n",
            "Escribe el tercer número: 87\n",
            "87\n",
            "56\n",
            "25\n"
          ]
        }
      ]
    },
    {
      "cell_type": "code",
      "source": [
        "turno = input('En qué turno trabajas? ')\n",
        "if turno == 'mañana' or turno == 'Mañana' or turno == 'MAÑANA':\n",
        "  print('Buenos días!')\n",
        "elif turno == 'tarde' or turno == 'Tarde' or turno == 'TARDE':\n",
        "  print('Buenas tardes!')\n",
        "elif turno == 'noche' or turno == 'Noche' or turno == 'NOCHE':\n",
        "  print('Buenas noches!')\n",
        "else:\n",
        "  print('Valor invalido!')"
      ],
      "metadata": {
        "id": "FWlLoCkx_RBy",
        "outputId": "5210476e-3e52-413d-b3f3-f0aa2af9ca16",
        "colab": {
          "base_uri": "https://localhost:8080/"
        }
      },
      "execution_count": null,
      "outputs": [
        {
          "output_type": "stream",
          "name": "stdout",
          "text": [
            "En qué turno trabajas? TARDE\n",
            "Buenas tardes!\n"
          ]
        }
      ]
    },
    {
      "cell_type": "code",
      "source": [
        "numero = int(input('Escribe un número: '))\n",
        "if numero % 2 == 0:\n",
        "  print('El número es par')\n",
        "else:\n",
        "  print('El número es impar')"
      ],
      "metadata": {
        "id": "jqP_cEAs_Qzt",
        "outputId": "e4622a35-f686-419d-fa6b-02a19ef699de",
        "colab": {
          "base_uri": "https://localhost:8080/"
        }
      },
      "execution_count": null,
      "outputs": [
        {
          "output_type": "stream",
          "name": "stdout",
          "text": [
            "Escribe un número: 5\n",
            "El número es impar\n"
          ]
        }
      ]
    },
    {
      "cell_type": "code",
      "source": [
        "numero = float(input('Escribe un número: '))\n",
        "if numero % 1 == 0:\n",
        "  print('El número es entero')\n",
        "else:\n",
        "  print('El número es decimal')"
      ],
      "metadata": {
        "id": "4OXahcDc7UBr",
        "outputId": "5e4fc627-ee1b-401d-8d70-b1d4f9d12ae9",
        "colab": {
          "base_uri": "https://localhost:8080/"
        }
      },
      "execution_count": null,
      "outputs": [
        {
          "output_type": "stream",
          "name": "stdout",
          "text": [
            "Escribe un número: 3.6\n",
            "El número es decimal\n"
          ]
        }
      ]
    },
    {
      "cell_type": "code",
      "source": [
        "'''\n",
        "Ejercicio 10. Que lea dos numeros y pregunte la operación que sea realizar,\n",
        "el resultado debe contener informacion sobre el numero, si es par o impar,\n",
        "positivo o negativo, entero o decimal\n",
        "'''\n",
        "\n",
        "num1 = float(input('Escribe un número: '))\n",
        "num2 = float(input('Escribe otro número: '))\n",
        "operacion = input('Escribe la operación que deseas realizar: ')\n",
        "resultado = 0\n",
        "\n",
        "if operacion == 'suma' or operacion == 'SUMA':\n",
        "  resultado = num1 + num2\n",
        "  print(f'El resultado de la suma es: {resultado}')\n",
        "elif operacion == 'resta' or operacion == 'RESTA':\n",
        "  resultado = num1 - num2\n",
        "  print(f'El resultado de la resta es: {resultado}')\n",
        "elif operacion == 'multiplicacion' or operacion == 'MULTIPLICACION':\n",
        "  resultado = num1 * num2\n",
        "  print(f'El resultado de la multiplicación es: {resultado}')\n",
        "elif operacion == 'division' or operacion == 'DIVISION':\n",
        "  resultado = num1 / num2\n",
        "  print(f'El resultado de la división es: {resultado}')\n",
        "else:\n",
        "  print('Operación inválida')\n",
        "\n",
        "if resultado % 2 == 0:\n",
        "  print('El número es par')\n",
        "else:\n",
        "  print('El número es impar')\n",
        "\n",
        "if resultado > 0:\n",
        "  print('El número es positivo')\n",
        "elif resultado < 0:\n",
        "  print('El número es negativo')\n",
        "\n",
        "if resultado % 1 == 0:\n",
        "  print('El número es entero')\n",
        "else:\n",
        "  print('El número es decimal')\n"
      ],
      "metadata": {
        "id": "RaEo-gvFCqPz",
        "outputId": "6af5acff-065f-4126-ff90-4daf0b72b630",
        "colab": {
          "base_uri": "https://localhost:8080/"
        }
      },
      "execution_count": null,
      "outputs": [
        {
          "output_type": "stream",
          "name": "stdout",
          "text": [
            "Escribe un número: 56.9\n",
            "Escribe otro número: 5.2\n",
            "Escribe la operación que deseas realizar: division\n",
            "El resultado de la división es: 10.942307692307692\n",
            "El número es impar\n",
            "El número es positivo\n",
            "El número es decimal\n"
          ]
        }
      ]
    },
    {
      "cell_type": "code",
      "source": [
        "'''\n",
        "11. un programa que pida tres numeros que representan los lado de un triangulo\n",
        "Debe informar si los valores puedes utilizarse para formar un triangulo y en\n",
        "caso afirmativo si es equilatero, isoceles o escaleno\n",
        "'''\n",
        "num1 = float(input('Escribe el primer número: '))\n",
        "num2 = float(input('Escribe el segundo número: '))\n",
        "num3 = float(input('Escribe el tercer número: '))\n",
        "\n",
        "if num1 + num2 > num3 and num1 + num3 > num2 and num2 + num3 > num1:\n",
        "  print('Los valores pueden formar un triángulo')\n",
        "  if num1 == num2 and num2 == num3:\n",
        "    print('El triángulo es equilátero')\n",
        "  elif num1 == num2 or num1 == num3 or num2 == num3:\n",
        "    print('El triángulo es isósceles')\n",
        "  else:\n",
        "    print('El triángulo es escaleno')\n",
        "else:\n",
        "  print('Los valores no pueden formar un triángulo')\n",
        "\n"
      ],
      "metadata": {
        "id": "pT9Kc8h3FwTT",
        "outputId": "d8798c4c-0dc0-4a90-bdba-351c21ca0bcd",
        "colab": {
          "base_uri": "https://localhost:8080/"
        }
      },
      "execution_count": null,
      "outputs": [
        {
          "output_type": "stream",
          "name": "stdout",
          "text": [
            "Escribe el primer número: 1\n",
            "Escribe el segundo número: 5\n",
            "Escribe el tercer número: 9\n",
            "Los valores no pueden formar un triángulo\n"
          ]
        }
      ]
    },
    {
      "cell_type": "code",
      "source": [
        "'''\n",
        "12. Combustibles con descuentos variables. Para el etanol < 15lt descuento de 2%\n",
        "En caso contrario, será de 4%. Para diesel < 15lt descuento de 3%\n",
        "En caso contrario, será de 5%. El precio del diesel es de $2.00 y el del etanol\n",
        "es de $1.70. Escribe un programa que lea la cantidad de litros vendidos y el\n",
        "tipo de combustible (E para etanol y D para diésel), y muestre el valor a pagar.\n",
        "'''\n",
        "litros = float(input('Escribe la cantidad de litros vendidos: '))\n",
        "combustible = input('Escribe E para Etanol y D para diésel: ')\n",
        "\n",
        "precio = 0\n",
        "\n",
        "if combustible == 'E' or combustible == 'e':\n",
        "  if litros <= 15:\n",
        "    precio = 1.7 * litros * 0.98\n",
        "    print(f'Su compra tiene 2% de descuento y el total es: {precio}')\n",
        "  else:\n",
        "    precio = 1.7 * litros * 0.96\n",
        "    print(f'Su compra tiene 4% de descuento y el total es: {precio}')\n",
        "elif combustible == 'D' or combustible == 'd':\n",
        "  if litros <= 15:\n",
        "    precio = 2.0 * litros * 0.97\n",
        "    print(f'Su compra tiene 3% de descuento y el total es: {precio}')\n",
        "  else:\n",
        "    precio = 2.0 * litros * 0.95\n",
        "    print(f'Su compra tiene 5% de descuento y el total es: {precio}')\n",
        "else:\n",
        "  print('Combustible no identificado')"
      ],
      "metadata": {
        "id": "kxYp0Cy8IiCT",
        "colab": {
          "base_uri": "https://localhost:8080/"
        },
        "outputId": "0f1ade38-99b2-42b7-e770-4c774f091974"
      },
      "execution_count": null,
      "outputs": [
        {
          "output_type": "stream",
          "name": "stdout",
          "text": [
            "Escribe la cantidad de litros vendidos: 5\n",
            "Escribe E para Etanol y D para diésel: d\n",
            "Su compra tiene 3% de descuento y el total es: 9.7\n"
          ]
        }
      ]
    },
    {
      "cell_type": "code",
      "source": [
        "# Versión de clase\n",
        "# Recolectamos la cantidad de litros y el tipo de combustible,\n",
        "# convirtiendo el carácter en mayúsculas para facilitar nuestro análisis\n",
        "cantidad_litros = float(input('Ingrese la cantidad de litros vendidos: '))\n",
        "tipo_combustible = input('Ingrese el tipo de combustible (E para etanol y D para diésel): ').upper()\n",
        "\n",
        "# Verificamos primero el tipo de combustible\n",
        "if tipo_combustible == 'E':\n",
        "  # Establecemos el precio por litro de etanol\n",
        "  precio_litro = 1.70\n",
        "  # Según la cantidad de litros, establecemos el descuento correspondiente\n",
        "  if cantidad_litros <= 15:\n",
        "    descuento = 0.02\n",
        "  else:\n",
        "    descuento = 0.04\n",
        "elif tipo_combustible == 'D':\n",
        "  # Establecemos el precio por litro de diésel\n",
        "  precio_litro = 2.00\n",
        "  # Según la cantidad de litros, establecemos el descuento correspondiente\n",
        "  if cantidad_litros <= 15:\n",
        "    descuento = 0.03\n",
        "  else:\n",
        "    descuento = 0.05\n",
        "# En caso de error en la especificación del tipo de combustible,\n",
        "# consideramos las entradas como no válidas y establecemos los precios y descuentos en 0\n",
        "else:\n",
        "    print('Entradas no válidas!')\n",
        "    precio_litro = 0\n",
        "    descuento = 0\n",
        "\n",
        "# Calculamos el valor del descuento, seguido del cálculo del precio descontado\n",
        "valor_descuento = precio_litro * cantidad_litros * descuento\n",
        "valor_pagado = precio_litro * cantidad_litros - valor_descuento\n",
        "\n",
        "# Resultado\n",
        "print(f'Valor a pagar por el cliente: R$ {valor_pagado}')"
      ],
      "metadata": {
        "colab": {
          "base_uri": "https://localhost:8080/"
        },
        "id": "BZ2XGJceqj0h",
        "outputId": "c78932d9-1281-494f-ae26-65e077cfb4c5"
      },
      "execution_count": null,
      "outputs": [
        {
          "output_type": "stream",
          "name": "stdout",
          "text": [
            "Ingrese la cantidad de litros vendidos: 15\n",
            "Ingrese el tipo de combustible (E para etanol y D para diésel): d\n",
            "Valor a pagar por el cliente: R$ 29.1\n"
          ]
        }
      ]
    },
    {
      "cell_type": "code",
      "source": [
        "'''\n",
        "13. En una empresa de venta de bienes raíces, debes crear un código que analice\n",
        "los datos de ventas anuales para ayudar a la dirección en la toma de decisiones\n",
        "El código debe recopilar los datos de cantidad de ventas durante los años 2022\n",
        "y 2023 y calcular la variación porcentual. A partir del valor de la variación,\n",
        "se deben proporcionar las siguientes sugerencias:\n",
        "- Para una variación superior al 20%: bonificación para el equipo de ventas\n",
        "- Para una variación entre el 2% y el 20%: pequeña bonificación para el equipo\n",
        "de ventas.\n",
        "- Para una variación entre el 2% y -10%: planificación de políticas de incentivo\n",
        "a las ventas.\n",
        "- Para variaciones inferiores al 10%: recorte de gastos.\n",
        "'''\n",
        "\n",
        "# Recolectamos las ventas de los dos años\n",
        "venta_2022 = float(input('Ingrese la cantidad de ventas en 2022: '))\n",
        "venta_2023 = float(input('Ingrese la cantidad de ventas en 2023: '))\n",
        "\n",
        "# Calculamos la variación porcentual entre las ventas de los años 2022 y 2023\n",
        "var_porcentual = 100 * (venta_2023 - venta_2022) / (venta_2022)\n",
        "\n",
        "# Análisis condicional de la variación porcentual para determinar la sugerencia a enviar\n",
        "if var_porcentual > 20:\n",
        "    print('Bonificación para el equipo de ventas.')\n",
        "elif 2 <= var_porcentual <= 20:\n",
        "    print('Pequeña bonificación para el equipo de ventas.')\n",
        "elif -10 <= var_porcentual < 2:\n",
        "    print('Planificación de políticas de incentivo a las ventas.')\n",
        "else:\n",
        "    print('Recorte de gastos.')"
      ],
      "metadata": {
        "colab": {
          "base_uri": "https://localhost:8080/"
        },
        "id": "MvBCid6arjsA",
        "outputId": "8bb8e0a4-fcff-4152-d738-9d1677f92e50"
      },
      "execution_count": null,
      "outputs": [
        {
          "output_type": "stream",
          "name": "stdout",
          "text": [
            "Ingrese la cantidad de ventas en 2022: 15698465\n",
            "Ingrese la cantidad de ventas en 2023: 468768564\n",
            "Bonificación para el equipo de ventas.\n"
          ]
        }
      ]
    },
    {
      "cell_type": "markdown",
      "source": [
        "# Estructuras de repetición"
      ],
      "metadata": {
        "id": "aL1vJPewvwvz"
      }
    },
    {
      "cell_type": "markdown",
      "source": [
        "Cuando tenemos que ejecutar un mismo bloque de comandos durante varias ocasiones no es nada práctico hacerlo a mano.\n",
        "\n",
        "**Situación**: Nos fue solicitado obtener e imprimir el promedio de 2 notas de **3 estudantes**:"
      ],
      "metadata": {
        "id": "VcPfCa8d-84t"
      }
    },
    {
      "cell_type": "code",
      "source": [
        "nota_1 = float(input('Ingresa la primera nota: '))\n",
        "nota_2 = float(input('Ingresa la segunda nota: '))\n",
        "print(f'El promedio del estudiante 1 es: {(nota_1 + nota_2)/2}')\n",
        "\n",
        "nota_1 = float(input('Ingresa la primera nota: '))\n",
        "nota_2 = float(input('Ingresa la segunda nota: '))\n",
        "print(f'El promedio del estudiante 2 es: {(nota_1 + nota_2)/2}')\n",
        "\n",
        "nota_1 = float(input('Ingresa la primera nota: '))\n",
        "nota_2 = float(input('Ingresa la segunda nota: '))\n",
        "print(f'El promedio del estudiante 3 es: {(nota_1 + nota_2)/2}')\n",
        "\n",
        "#Este código no es practico porque podrían ser muchos más estudiantes"
      ],
      "metadata": {
        "id": "xcx21IGT9qA0",
        "colab": {
          "base_uri": "https://localhost:8080/"
        },
        "outputId": "5256409f-7b10-4764-c5d4-a25d41ea50c9"
      },
      "execution_count": null,
      "outputs": [
        {
          "output_type": "stream",
          "name": "stdout",
          "text": [
            "Ingresa la primera nota: 6.5\n",
            "Ingresa la segunda nota: .5\n",
            "El promedio del estudiante 1 es: 3.5\n",
            "Ingresa la primera nota: 8.3\n",
            "Ingresa la segunda nota: 9\n",
            "El promedio del estudiante 2 es: 8.65\n",
            "Ingresa la primera nota: 8.65\n",
            "Ingresa la segunda nota: 9\n",
            "El promedio del estudiante 3 es: 8.825\n"
          ]
        }
      ]
    },
    {
      "cell_type": "code",
      "source": [],
      "metadata": {
        "id": "Yfyz4anY9rIr"
      },
      "execution_count": null,
      "outputs": []
    },
    {
      "cell_type": "markdown",
      "source": [
        "Ahora imaginemos una situación en que no son tan solo 3 estudiantes, sino 100 estudiantes. No sería nada interesante repetir el mismo código 100 veces, sino **ejecutar el mismo código 100 veces**.\n",
        "\n",
        "¡Esta estructura la logramos construir con lazos de repetición!"
      ],
      "metadata": {
        "id": "9puIuvUbFSFX"
      }
    },
    {
      "cell_type": "markdown",
      "source": [
        "## `WHILE`"
      ],
      "metadata": {
        "id": "uLO9-aE4-wx8"
      }
    },
    {
      "cell_type": "markdown",
      "source": [
        "El lazo `while` es una estructura de control de repetición en Python que permite ejecutar un bloque de código repetidamente mientras que una determinada condición sea verdadera. Su estructura es:\n",
        "\n",
        "\n",
        "\n",
        "```\n",
        "while condicion:\n",
        "    # bloque de codigo\n",
        "```\n",
        "\n",
        "Vamos a construir un ejemplo con un contador de 1 hasta 10.\n"
      ],
      "metadata": {
        "id": "rXZxDMiqHxm9"
      }
    },
    {
      "cell_type": "code",
      "source": [
        "contador = 1\n",
        "while contador <= 10:\n",
        "  print(contador)\n",
        "  contador = contador + 1"
      ],
      "metadata": {
        "id": "Hd0ZSWxD9wCD",
        "colab": {
          "base_uri": "https://localhost:8080/"
        },
        "outputId": "b130353b-ba50-4585-ad9b-69c945f0405b"
      },
      "execution_count": null,
      "outputs": [
        {
          "output_type": "stream",
          "name": "stdout",
          "text": [
            "1\n",
            "2\n",
            "3\n",
            "4\n",
            "5\n",
            "6\n",
            "7\n",
            "8\n",
            "9\n",
            "10\n"
          ]
        }
      ]
    },
    {
      "cell_type": "code",
      "source": [
        "contador = 1\n",
        "while contador <= 10:\n",
        "  print(contador)\n",
        "  contador += 1"
      ],
      "metadata": {
        "id": "miFHNqp29nOL",
        "colab": {
          "base_uri": "https://localhost:8080/"
        },
        "outputId": "4c855a2c-8b07-4cc2-bbf4-4fd0aabe66cf"
      },
      "execution_count": null,
      "outputs": [
        {
          "output_type": "stream",
          "name": "stdout",
          "text": [
            "1\n",
            "2\n",
            "3\n",
            "4\n",
            "5\n",
            "6\n",
            "7\n",
            "8\n",
            "9\n",
            "10\n"
          ]
        }
      ]
    },
    {
      "cell_type": "markdown",
      "source": [
        "Ahora vamos a colectar las notas y promedios de cada alumno dentro del lazo `while`. Haremos un ejemplo con 3 promedios."
      ],
      "metadata": {
        "id": "W4KZPBJuIrut"
      }
    },
    {
      "cell_type": "code",
      "source": [
        "contador = 1\n",
        "while contador <= 3:\n",
        "  nota_1 = float(input('Ingresa la primera nota: '))\n",
        "  nota_2 = float(input('Ingresa la segunda nota: '))\n",
        "  print(f'El promedio del estudiante es: {(nota_1 + nota_2)/2}')\n",
        "  contador += 1"
      ],
      "metadata": {
        "id": "9T5eCLFx9wk6",
        "colab": {
          "base_uri": "https://localhost:8080/"
        },
        "outputId": "6d4c7922-4a1e-4a29-e298-4ad62960947b"
      },
      "execution_count": null,
      "outputs": [
        {
          "output_type": "stream",
          "name": "stdout",
          "text": [
            "Ingresa la primera nota: 8.5\n",
            "Ingresa la segunda nota: 5.7\n",
            "El promedio del estudiante es: 7.1\n",
            "Ingresa la primera nota: 6.5\n",
            "Ingresa la segunda nota: 10\n",
            "El promedio del estudiante es: 8.25\n",
            "Ingresa la primera nota: 9\n",
            "Ingresa la segunda nota: 7\n",
            "El promedio del estudiante es: 8.0\n"
          ]
        }
      ]
    },
    {
      "cell_type": "markdown",
      "source": [
        "## `FOR`"
      ],
      "metadata": {
        "id": "WgAIaENMMfCP"
      }
    },
    {
      "cell_type": "markdown",
      "source": [
        "El lazo `for` es un tipo de estructura de control de flujo en Python que permite iterar sobre un conjunto de elementos. Su estructura es:\n",
        "\n",
        "\n",
        "\n",
        "```\n",
        "for elemento in conjunto:\n",
        "    # codigo a ser ejecutado para cada elemento\n",
        "```\n",
        "\n",
        "El lazo `for` itera sobre cada elemento del conjunto especificado y ejecuta el bloque de código dentro del lazo para cada elemento. Cuando el lazo llega al final del conjunto, este se interrumpe y el programa continúa la ejecución después del lazo.\n",
        "\n"
      ],
      "metadata": {
        "id": "HxrSZoRAMh-x"
      }
    },
    {
      "cell_type": "markdown",
      "source": [
        "El conjunto lo podemos generar con la función incorporada [`range()`](https://docs.python.org/3/library/functions.html#func-range). Se trata de una función capaz de generar una secuencia de números enteros. La estructura de esta función es:\n",
        "\n",
        "```\n",
        "range(inicio, fin, paso)\n",
        "```\n",
        "\n",
        "Según la documentación, `range()` genera una secuencia de números enteros a partir del valor del parámetro `inicio` hasta el valor del parámetro `fin`, de acuerdo con el valor del parámetro `paso`. Si `inicio` no es especificado, el valor por defecto es `0`. Si `paso` no es especificado, el valor por defecto es `1`.\n",
        "\n",
        "\n"
      ],
      "metadata": {
        "id": "6VgjyoQtPHBM"
      }
    },
    {
      "cell_type": "markdown",
      "source": [
        "Vamos a recrear el mismo contador `while` con el lazo `for`."
      ],
      "metadata": {
        "id": "ryn0hfdlUwC8"
      }
    },
    {
      "cell_type": "code",
      "source": [
        "for n in range(1,11):\n",
        "  print(n)"
      ],
      "metadata": {
        "id": "KkL1wUIj9jL4",
        "colab": {
          "base_uri": "https://localhost:8080/"
        },
        "outputId": "3952d0a6-3c81-480a-b644-02d18aafffd0"
      },
      "execution_count": null,
      "outputs": [
        {
          "output_type": "stream",
          "name": "stdout",
          "text": [
            "1\n",
            "2\n",
            "3\n",
            "4\n",
            "5\n",
            "6\n",
            "7\n",
            "8\n",
            "9\n",
            "10\n"
          ]
        }
      ]
    },
    {
      "cell_type": "code",
      "source": [
        "for e in range (1,4):\n",
        "  nota_1 = float(input('Ingresa la primera nota: '))\n",
        "  nota_2 = float(input('Ingresa la segunda nota: '))\n",
        "  print(f'El promedio del estudiante es: {(nota_1 + nota_2)/2}')"
      ],
      "metadata": {
        "id": "uXIZnLSr9jOu",
        "colab": {
          "base_uri": "https://localhost:8080/"
        },
        "outputId": "4e57d553-2150-44f4-a231-28488ed40021"
      },
      "execution_count": null,
      "outputs": [
        {
          "output_type": "stream",
          "name": "stdout",
          "text": [
            "Ingresa la primera nota: 7\n",
            "Ingresa la segunda nota: 8\n",
            "El promedio del estudiante es: 7.5\n",
            "Ingresa la primera nota: 8\n",
            "Ingresa la segunda nota: 9\n",
            "El promedio del estudiante es: 8.5\n",
            "Ingresa la primera nota: 10\n",
            "Ingresa la segunda nota: 5\n",
            "El promedio del estudiante es: 7.5\n"
          ]
        }
      ]
    },
    {
      "cell_type": "markdown",
      "source": [
        "##Desafío 4. Estructuras de repetición\n"
      ],
      "metadata": {
        "id": "29-GZcjvMg2a"
      }
    },
    {
      "cell_type": "code",
      "source": [
        "num1 = int(input('Ingresa el primer numero: '))\n",
        "num2 = int(input('Ingresa el segundo numero: '))\n",
        "n = num1\n",
        "while n <= num2:\n",
        "  print(n)\n",
        "  n += 1"
      ],
      "metadata": {
        "id": "YogBQAoxMgH_",
        "outputId": "72158241-f622-498e-bb66-f012c30a2efd",
        "colab": {
          "base_uri": "https://localhost:8080/"
        }
      },
      "execution_count": null,
      "outputs": [
        {
          "output_type": "stream",
          "name": "stdout",
          "text": [
            "Ingresa el primer numero: 15\n",
            "Ingresa el segundo numero: 20\n",
            "15\n",
            "16\n",
            "17\n",
            "18\n",
            "19\n",
            "20\n"
          ]
        }
      ]
    },
    {
      "cell_type": "code",
      "source": [
        "tasa_A = 0.03\n",
        "tasa_B = 0.015\n",
        "colonia_A = 4\n",
        "colonia_B = 10\n",
        "dias = 0\n",
        "\n",
        "while colonia_A <= colonia_B:\n",
        "  colonia_A *= 1 + tasa_A\n",
        "  colonia_B *= 1 + tasa_B\n",
        "  dias += 1\n",
        "\n",
        "print(f'Se necesitan {dias} días para que la colonia A spere a la colonia B')\n"
      ],
      "metadata": {
        "id": "3usfpQn-0Ykf",
        "outputId": "6877542a-fd79-4bfa-96be-7ee99a3dd930",
        "colab": {
          "base_uri": "https://localhost:8080/"
        }
      },
      "execution_count": null,
      "outputs": [
        {
          "output_type": "stream",
          "name": "stdout",
          "text": [
            "Se necesitan 63 días para que la colonia A spere a la colonia B\n"
          ]
        }
      ]
    },
    {
      "cell_type": "code",
      "source": [
        "for i in range(1, 16):\n",
        "  nota = float(input(f'Ingresa la nota del usuario {i}: '))\n",
        "\n",
        "  while (nota < 0) or (nota > 5):\n",
        "    nota = float(input(f'Nota no válida, ingresa nuevamente la nota del usuario {i}: '))\n",
        "\n",
        "print('Verificación completa. Todas las notas son válidas.')"
      ],
      "metadata": {
        "id": "DmA1gmtqYD3S",
        "outputId": "b98012da-dacc-42d4-9c20-aae6b7915121",
        "colab": {
          "base_uri": "https://localhost:8080/"
        }
      },
      "execution_count": null,
      "outputs": [
        {
          "output_type": "stream",
          "name": "stdout",
          "text": [
            "Ingresa la nota del usuario 1: 5\n",
            "Ingresa la nota del usuario 2: 4\n",
            "Ingresa la nota del usuario 3: 6\n",
            "Nota no válida, ingresa nuevamente la nota del usuario 3: 4\n",
            "Ingresa la nota del usuario 4: 2\n",
            "Ingresa la nota del usuario 5: 3\n",
            "Ingresa la nota del usuario 6: 4\n",
            "Ingresa la nota del usuario 7: 5\n",
            "Ingresa la nota del usuario 8: 3\n",
            "Ingresa la nota del usuario 9: 1\n",
            "Ingresa la nota del usuario 10: 0\n",
            "Ingresa la nota del usuario 11: 5\n",
            "Ingresa la nota del usuario 12: 4\n",
            "Ingresa la nota del usuario 13: 2\n",
            "Ingresa la nota del usuario 14: 3\n",
            "Ingresa la nota del usuario 15: 1\n",
            "Verificación completa. Todas las notas son válidas.\n"
          ]
        }
      ]
    },
    {
      "cell_type": "code",
      "source": [
        "temp = float(input('Ingresa la temperatura: '))\n",
        "contador = 0\n",
        "suma = 0\n",
        "\n",
        "while temp != -273:\n",
        "  suma += temp\n",
        "  contador += 1\n",
        "  temp = float(input('Ingresa la temperatura: '))\n",
        "\n",
        "promedio = suma / contador\n",
        "print(f'El promedio de las temperaturas es: {promedio}')\n",
        "\n",
        "\n",
        "\n"
      ],
      "metadata": {
        "id": "XsbcFI7bZle6",
        "outputId": "5d75523e-9db8-4081-a7a0-f4001682c85b",
        "colab": {
          "base_uri": "https://localhost:8080/"
        }
      },
      "execution_count": null,
      "outputs": [
        {
          "output_type": "stream",
          "name": "stdout",
          "text": [
            "Ingresa la temperatura: 5\n",
            "Ingresa la temperatura: 5\n",
            "Ingresa la temperatura: 5\n",
            "Ingresa la temperatura: 5\n",
            "Ingresa la temperatura: 5\n",
            "Ingresa la temperatura: 273\n",
            "Ingresa la temperatura: -273\n",
            "El promedio de las temperaturas es: 49.666666666666664\n"
          ]
        }
      ]
    },
    {
      "cell_type": "code",
      "source": [
        "numero = int(input('Ingresa un número entero: '))\n",
        "factorial = 1\n",
        "i = numero\n",
        "\n",
        "while i > 0:\n",
        "  factorial *= i\n",
        "  i -= 1\n",
        "\n",
        "print(f'El factorial de {numero} es {factorial}')"
      ],
      "metadata": {
        "id": "UtYF12FSbLLR",
        "outputId": "b14b3fa6-d1f4-4b1a-98c4-4f912c8c20aa",
        "colab": {
          "base_uri": "https://localhost:8080/"
        }
      },
      "execution_count": null,
      "outputs": [
        {
          "output_type": "stream",
          "name": "stdout",
          "text": [
            "Ingresa un número entero: 5\n",
            "El factorial de 5 es 120\n"
          ]
        }
      ]
    },
    {
      "cell_type": "code",
      "source": [
        "'''\n",
        "6. Programa que genere la tabla de múltiplicar de un número entero del 1 al 10\n",
        "'''\n",
        "\n",
        "numero = int(input('Ingresa un numero del 1 al 10: '))\n",
        "contador = 1\n",
        "print(f'La tabla de multiplicar del {numero}: ')\n",
        "\n",
        "for contador in range (1, 11):\n",
        "  print(f'{numero} x {contador} = {numero * contador}')\n",
        "  contador += 1"
      ],
      "metadata": {
        "id": "sw2ybl8-b-os",
        "outputId": "0a58f8ff-0c2d-46cf-ea9f-bac55a324a92",
        "colab": {
          "base_uri": "https://localhost:8080/"
        }
      },
      "execution_count": null,
      "outputs": [
        {
          "output_type": "stream",
          "name": "stdout",
          "text": [
            "Ingresa un numero del 1 al 10: 9\n",
            "La tabla de multiplicar del 9: \n",
            "9 x 1 = 9\n",
            "9 x 2 = 18\n",
            "9 x 3 = 27\n",
            "9 x 4 = 36\n",
            "9 x 5 = 45\n",
            "9 x 6 = 54\n",
            "9 x 7 = 63\n",
            "9 x 8 = 72\n",
            "9 x 9 = 81\n",
            "9 x 10 = 90\n"
          ]
        }
      ]
    },
    {
      "cell_type": "code",
      "source": [
        "'''\n",
        "7. Programa que solicite un numero entero y determine si es primo o no.\n",
        "Los numeros primos son aquellos que son divisibles solo por si mismo y por 1.\n",
        "'''\n",
        "numero = int( input('Ingresa un numero entero: '))\n",
        "\n",
        "#Los números enteros iguales o menores que 1 no se consideran primos\n",
        "if numero > 1:\n",
        "  #El ciclo for recorre todos los enteros i desde 2 hasta numero-1\n",
        "  #La idea es probar si alguno de estos i divide exactamente a numero\n",
        "  for i in range (2, numero):\n",
        "    #Numero % i es lo que resta de dividr numero entre i.\n",
        "    #Si el resto es uno, entonces numero tiene un divisor distinto de 1 y de sí mismo\n",
        "    #Por lo tanto no es un numero primero\n",
        "    if (numero % i) == 0:\n",
        "      print(f'{numero} no es un número primo')\n",
        "      break\n",
        "      #Se coloca el break porque al cumplirse la condición ya sabemos que no es primo\n",
        "  else:\n",
        "      print(f'{numero} es un número primo')\n",
        "else:\n",
        "  print(f'{numero} no es un número primo')\n",
        "\n"
      ],
      "metadata": {
        "id": "i9tFF8UqdwlA",
        "outputId": "b38649e1-4ccf-4526-c2a4-27ff3618d106",
        "colab": {
          "base_uri": "https://localhost:8080/"
        }
      },
      "execution_count": null,
      "outputs": [
        {
          "output_type": "stream",
          "name": "stdout",
          "text": [
            "Ingresa un numero entero: 2\n",
            "2 es un número primo\n"
          ]
        }
      ]
    },
    {
      "cell_type": "code",
      "source": [
        "'''\n",
        "8. Porgrama que comprende la distribución de edades de los pensionistas\n",
        "de una empresa de seguros. El programa lee las edades de una cantidad\n",
        "no informada de clientes y muestre la distribución en los intervalos\n",
        "(0-25), (26-50), (51, 75) y (76-100). La entrada de datos se detendrá\n",
        "al ingresar un número negativo.\n",
        "'''\n",
        "\n",
        "edad = int(input('Ingresa la edad (o numero negativo para finalizar): '))\n",
        "\n",
        "#Colocamos las variables de conteo\n",
        "contador_0_25 = 0\n",
        "contador_26_50 = 0\n",
        "contador_51_75 = 0\n",
        "contador_76_100 = 0\n",
        "\n",
        "#Se ejecuta un ciclo while mientras los valores sean positivos\n",
        "while edad >= 0:\n",
        "  #Contamos los valores que correspondan a cada caso\n",
        "  if edad >= 0 and edad <= 25:\n",
        "    contador_0_25 += 1\n",
        "  elif edad >= 26 and edad <= 50:\n",
        "    contador_26_50 += 1\n",
        "  elif edad >= 76 and edad <= 100:\n",
        "     contador_76_100 += 1\n",
        "\n",
        "     #Se repite el proceso de entrada de datos\n",
        "  edad = int(input('Ingresa la edad (o numero negativo para finalizar): '))\n",
        "\n",
        "print('Distribución de edades: ')\n",
        "print(f'Distribución [0-25]: {contador_0_25}')\n",
        "print(f'Distribución [26-50]: {contador_26_50}')\n",
        "print(f'Distribución [51-75]: {contador_51_75}')\n",
        "print(f'Distribución [76-100]: {contador_0_25}')"
      ],
      "metadata": {
        "id": "R9siemtruSfi",
        "outputId": "9482565b-e4c6-411f-c063-8ae9354bb2ae",
        "colab": {
          "base_uri": "https://localhost:8080/"
        }
      },
      "execution_count": 1,
      "outputs": [
        {
          "output_type": "stream",
          "name": "stdout",
          "text": [
            "Ingresa la edad (o numero negativo para finalizar): 56\n",
            "Ingresa la edad (o numero negativo para finalizar): 65\n",
            "Ingresa la edad (o numero negativo para finalizar): 1\n",
            "Ingresa la edad (o numero negativo para finalizar): 54\n",
            "Ingresa la edad (o numero negativo para finalizar): 265\n",
            "Ingresa la edad (o numero negativo para finalizar): 168\n",
            "Ingresa la edad (o numero negativo para finalizar): 187\n",
            "Ingresa la edad (o numero negativo para finalizar): 215\n",
            "Ingresa la edad (o numero negativo para finalizar): 587\n",
            "Ingresa la edad (o numero negativo para finalizar): 89\n",
            "Ingresa la edad (o numero negativo para finalizar): 252\n",
            "Ingresa la edad (o numero negativo para finalizar): 66\n",
            "Ingresa la edad (o numero negativo para finalizar): 55\n",
            "Ingresa la edad (o numero negativo para finalizar): -7\n",
            "Distribución de edades: \n",
            "Distribución [0-25]: 1\n",
            "Distribución [26-50]: 0\n",
            "Distribución [51-75]: 0\n",
            "Distribución [76-100]: 1\n"
          ]
        }
      ]
    },
    {
      "cell_type": "code",
      "source": [],
      "metadata": {
        "id": "lPk3Ghriz5WX"
      },
      "execution_count": null,
      "outputs": []
    },
    {
      "cell_type": "code",
      "source": [],
      "metadata": {
        "id": "giC3W7l0xbm8"
      },
      "execution_count": null,
      "outputs": []
    },
    {
      "cell_type": "markdown",
      "source": [
        "# Estructuras de datos"
      ],
      "metadata": {
        "id": "8noP8OJ0Vhux"
      }
    },
    {
      "cell_type": "markdown",
      "source": [
        "Un conjunto de elementos es una colección de items, que son almacenados juntos de manera organizada. Algunos ejemplos de conjuntos de elementos en Python son las listas, los strings y los diccionarios."
      ],
      "metadata": {
        "id": "xpEUkefTu8fY"
      }
    },
    {
      "cell_type": "markdown",
      "source": [
        "## Listas"
      ],
      "metadata": {
        "id": "THSg4KYLwxIb"
      }
    },
    {
      "cell_type": "markdown",
      "source": [
        "Las listas pueden almacenar una colección de items en orden. Ellas son delimitadas por corchetes `[]` y sus elementos son separados por comas.\n",
        "\n",
        "Estas pueden almacenar cualquier tipo de items, incluyendo números, strings, objetos, otras listas, entre otros. También nos permiten almacenar items de tipos de datos diferentes juntos en una única lista."
      ],
      "metadata": {
        "id": "dzpsiqrOyJcK"
      }
    },
    {
      "cell_type": "code",
      "source": [
        "lista = ['Penélope Camacho',9.5,9.0,9.7,True]\n",
        "lista"
      ],
      "metadata": {
        "id": "DO3TBj7nAYeG",
        "colab": {
          "base_uri": "https://localhost:8080/"
        },
        "outputId": "fbee2eb5-265e-4b5b-badf-a0dd9331074b"
      },
      "execution_count": null,
      "outputs": [
        {
          "output_type": "execute_result",
          "data": {
            "text/plain": [
              "['Penélope Camacho', 9.5, 9.0, 9.7, True]"
            ]
          },
          "metadata": {},
          "execution_count": 62
        }
      ]
    },
    {
      "cell_type": "code",
      "source": [],
      "metadata": {
        "id": "DO2ubP9N9D_2"
      },
      "execution_count": null,
      "outputs": []
    },
    {
      "cell_type": "markdown",
      "source": [
        "Las listas son organizadas en Python porque **cada elemento de la lista tiene un índice que indica su posición al interior de la lista**. Los índices comienzan en 0 van hasta el tamaño de la lista menos 1."
      ],
      "metadata": {
        "id": "qUz3sJNl6LgK"
      }
    },
    {
      "cell_type": "markdown",
      "source": [
        "Tenemos entonces 5 elementos con índices que varían de 0 a 4, ordenadamente:\n",
        "\n",
        "```\n",
        "#             [0]           [1]   [2]   [3]    [4]\n",
        "lista = ['Penélope Camacho', 9.5 , 9.0 , 9.7 , True]\n",
        "```\n",
        "\n",
        "En Python tenemos también los índices **negativos** que se inician en el último elemento con el valor de `-1` y avanzan en el universo de los negativos hasta llegar al 1° elemento:\n",
        "\n",
        "```\n",
        "#             [-5]         [-4]  [-3]  [-2]   [-1]\n",
        "lista = ['Penélope Camacho', 9.5 , 9.0 , 9.7 , True]\n",
        "```\n",
        "\n",
        "Logramos seleccionar separadamente cada elemento a través de sus respectivos índices. Colocando el nombre de la lista y en seguida el índice que será seleccionado."
      ],
      "metadata": {
        "id": "rLf-Qg526hFD"
      }
    },
    {
      "cell_type": "code",
      "source": [],
      "metadata": {
        "id": "4hco1Zqy88Kw"
      },
      "execution_count": null,
      "outputs": []
    },
    {
      "cell_type": "code",
      "source": [],
      "metadata": {
        "id": "M8lH0I2288Ph"
      },
      "execution_count": null,
      "outputs": []
    },
    {
      "cell_type": "markdown",
      "source": [
        "Una forma más dinámica de trabajar item a item en una lista es utilizando un lazo `for` para leer un elemento a la vez."
      ],
      "metadata": {
        "id": "6TaE1ijmBTCd"
      }
    },
    {
      "cell_type": "code",
      "source": [],
      "metadata": {
        "id": "rBx4Yu1786Sy"
      },
      "execution_count": null,
      "outputs": []
    },
    {
      "cell_type": "markdown",
      "source": [
        "**Situación**: La nota `9.0` de Penélope necesita ser ajustada pues ganó 1 punto en su última nota por participación en clase. Entonces es necesario realizar un cambio en el índice `2` de `9.0` a `10.0`."
      ],
      "metadata": {
        "id": "Dh1_HnIVvucY"
      }
    },
    {
      "cell_type": "code",
      "source": [],
      "metadata": {
        "id": "bVPoZg668z3T"
      },
      "execution_count": null,
      "outputs": []
    },
    {
      "cell_type": "code",
      "source": [],
      "metadata": {
        "id": "Jo_PBQ0g8z7D"
      },
      "execution_count": null,
      "outputs": []
    },
    {
      "cell_type": "markdown",
      "source": [
        "También podemos calcular el promedio del estudiante a partir de los datos que tenemos."
      ],
      "metadata": {
        "id": "53XduzXkycAf"
      }
    },
    {
      "cell_type": "code",
      "source": [],
      "metadata": {
        "id": "SIH61Rrb8yv4"
      },
      "execution_count": null,
      "outputs": []
    },
    {
      "cell_type": "markdown",
      "source": [
        "## Manipulación de listas\n",
        "\n",
        "Las listas son muy útiles en Python porque nos permiten almacenar y acceder a una colección de items de manera organizada y rápida. Estas también ofrecen muchos métodos útiles para manipular los itens almacenados, como adicionar, remover, clasificar y buscar elementos."
      ],
      "metadata": {
        "id": "d-iYr10-y4qw"
      }
    },
    {
      "cell_type": "markdown",
      "source": [
        "#### Cantidad de elementos\n",
        "\n",
        "Usamos la función [`len()`](https://docs.python.org/3/library/functions.html#len) para descubrir la cantidad de elementos de un conjunto."
      ],
      "metadata": {
        "id": "ZLqx9A97XVB_"
      }
    },
    {
      "cell_type": "code",
      "source": [],
      "metadata": {
        "id": "6q1Tmm7P8wQf"
      },
      "execution_count": null,
      "outputs": []
    },
    {
      "cell_type": "markdown",
      "source": [
        "#### Partición\n",
        "\n",
        "La partición de listas por indexación en Python es una técnica muy útil para seleccionar un subconjunto de elementos de una lista. Esta se realiza usando la sintaxis `lista[inicio:fin]`, donde `inicio` es el índice del primer elemento que será incluído en la partición `fin` es el índice del primer elemento que será excluído de la partición."
      ],
      "metadata": {
        "id": "Z5tpstlHJss3"
      }
    },
    {
      "cell_type": "code",
      "source": [],
      "metadata": {
        "id": "NctvJTTU8uV9"
      },
      "execution_count": null,
      "outputs": []
    },
    {
      "cell_type": "code",
      "source": [],
      "metadata": {
        "id": "bQZUwldj8uY2"
      },
      "execution_count": null,
      "outputs": []
    },
    {
      "cell_type": "markdown",
      "source": [
        "#### [`append()`](https://docs.python.org/3/tutorial/datastructures.html#:~:text=of%20list%20objects%3A-,list.append(x),-Add%20an%20item)\n",
        "\n",
        "Añade un elemento al final de la lista."
      ],
      "metadata": {
        "id": "O0RRyabkRzZC"
      }
    },
    {
      "cell_type": "code",
      "source": [],
      "metadata": {
        "id": "_Q0oODwa8spC"
      },
      "execution_count": null,
      "outputs": []
    },
    {
      "cell_type": "code",
      "source": [],
      "metadata": {
        "id": "RM894r2M8sse"
      },
      "execution_count": null,
      "outputs": []
    },
    {
      "cell_type": "markdown",
      "source": [
        "#### [`extend()`](https://docs.python.org/3/tutorial/datastructures.html#:~:text=list.extend(iterable))\n",
        "\n",
        "Añade varios elementos al final de la lista.\n",
        "\n",
        "Añadiremos las notas `[10.0,8.0,9.0]` En la lista de Penélope Camacho."
      ],
      "metadata": {
        "id": "uQV91XMsUOJD"
      }
    },
    {
      "cell_type": "code",
      "source": [],
      "metadata": {
        "id": "6Zk2MpMw8rQc"
      },
      "execution_count": null,
      "outputs": []
    },
    {
      "cell_type": "code",
      "source": [],
      "metadata": {
        "id": "NnoKkoWb8rTQ"
      },
      "execution_count": null,
      "outputs": []
    },
    {
      "cell_type": "markdown",
      "source": [
        "*A continuación te mostraremos lo que no puede realizarse con* `append`."
      ],
      "metadata": {
        "id": "IVJvkTwNUk6M"
      }
    },
    {
      "cell_type": "code",
      "source": [],
      "metadata": {
        "id": "u3Eub2ZL8pp3"
      },
      "execution_count": null,
      "outputs": []
    },
    {
      "cell_type": "code",
      "source": [],
      "metadata": {
        "id": "tsKK5Ne58pvN"
      },
      "execution_count": null,
      "outputs": []
    },
    {
      "cell_type": "markdown",
      "source": [
        "#### [`remove()`](https://docs.python.org/3/tutorial/datastructures.html#:~:text=append(x).-,list.remove(x),-Remove%20the%20first)\n",
        "\n",
        "Remueve un elemento específico de la lista."
      ],
      "metadata": {
        "id": "dPGM5gpyUX1z"
      }
    },
    {
      "cell_type": "code",
      "source": [],
      "metadata": {
        "id": "mmboODPc8nd5"
      },
      "execution_count": null,
      "outputs": []
    },
    {
      "cell_type": "code",
      "source": [],
      "metadata": {
        "id": "T_w6vVgV8nh_"
      },
      "execution_count": null,
      "outputs": []
    },
    {
      "cell_type": "markdown",
      "source": [
        "## Diccionario"
      ],
      "metadata": {
        "id": "Rc22Vc08YDZ2"
      }
    },
    {
      "cell_type": "markdown",
      "source": [
        "Los diccionarios son un tipo de estructura de datos que almacenan pares de *llave-valor*. Estos son delimitados por llaves `{}` y los pares *llave-valor* son separados por comas.\n",
        "\n",
        "```\n",
        "diccionario = {llave: valor}\n",
        "```\n",
        "\n",
        "La **llave** es un elemento único que identifica a un valor en el diccionario, mientras que el **valor** es el item que será almacenado para la llave. Las llaves y sus respectivos valores se pueden emplear para **cualquier tipo de dato**.\n",
        "\n",
        "Los diccionarios son útiles para almacenar y acceder a los datos de manera organizada y rápida. Se trata de un tipo de conjunto de elementos en Python, pues almacenan una colección de items."
      ],
      "metadata": {
        "id": "PJ-cCKPjeWxL"
      }
    },
    {
      "cell_type": "code",
      "source": [],
      "metadata": {
        "id": "NDHhzooE8ld5"
      },
      "execution_count": null,
      "outputs": []
    },
    {
      "cell_type": "code",
      "source": [],
      "metadata": {
        "id": "AVOzqzy-8lhh"
      },
      "execution_count": null,
      "outputs": []
    },
    {
      "cell_type": "markdown",
      "source": [
        "---\n",
        "**Situación:**\n",
        "\n",
        "Vamos a crear un conjunto de datos con las informaciones de matrícula de un estudiante. Los datos son los siguientes:\n",
        "\n",
        "- matrícula: 2000168933\n",
        "- día de registro: 25\n",
        "- mes de registro: 10\n",
        "- grupo: 2E"
      ],
      "metadata": {
        "id": "_JbQ3KMKfkXU"
      }
    },
    {
      "cell_type": "code",
      "source": [],
      "metadata": {
        "id": "0lfOu_c38jED"
      },
      "execution_count": null,
      "outputs": []
    },
    {
      "cell_type": "code",
      "source": [],
      "metadata": {
        "id": "XIuqpTTy8jHV"
      },
      "execution_count": null,
      "outputs": []
    },
    {
      "cell_type": "markdown",
      "source": [
        "Es posible sustituir los valores dentro de una llave. Por ejemplo, recibimos la información de que el grupo del estudiante que registramos cambio a `'2G'` y ahora necesitamos cambiar el valor de la llave `'grupo'`."
      ],
      "metadata": {
        "id": "8ex5pt2ykDd2"
      }
    },
    {
      "cell_type": "code",
      "source": [],
      "metadata": {
        "id": "kQGlp36b8fyP"
      },
      "execution_count": null,
      "outputs": []
    },
    {
      "cell_type": "code",
      "source": [],
      "metadata": {
        "id": "DnfH_qHi8f17"
      },
      "execution_count": null,
      "outputs": []
    },
    {
      "cell_type": "markdown",
      "source": [
        "También podemos añadir otros datos al diccionario. Vamos a añadir la información sobre la modalidad de estudio, nuestro estudiante estudiará inicialemente en la modalidad EAD.\n",
        "\n",
        "Definiremos una llave llamada `'modalidad'` con el valor `'EAD'`."
      ],
      "metadata": {
        "id": "wB0qRb56mQvv"
      }
    },
    {
      "cell_type": "code",
      "source": [],
      "metadata": {
        "id": "EeLYdlIm8d8a"
      },
      "execution_count": null,
      "outputs": []
    },
    {
      "cell_type": "code",
      "source": [],
      "metadata": {
        "id": "olDIavsm8d_o"
      },
      "execution_count": null,
      "outputs": []
    },
    {
      "cell_type": "markdown",
      "source": [
        "## Profundizando en diccionarios"
      ],
      "metadata": {
        "id": "LJ3o_inroxg_"
      }
    },
    {
      "cell_type": "markdown",
      "source": [
        "#### [`pop()`](https://python-reference.readthedocs.io/en/latest/docs/dict/pop.html)\n",
        "Remueve un item de un diccionario y lo representa en la salida."
      ],
      "metadata": {
        "id": "2N3GLlkSpBiu"
      }
    },
    {
      "cell_type": "code",
      "source": [],
      "metadata": {
        "id": "ZsSCZx6G8b-T"
      },
      "execution_count": null,
      "outputs": []
    },
    {
      "cell_type": "code",
      "source": [],
      "metadata": {
        "id": "7lQ8_jpi8cBR"
      },
      "execution_count": null,
      "outputs": []
    },
    {
      "cell_type": "markdown",
      "source": [
        "#### [`items()`](https://python-reference.readthedocs.io/en/latest/docs/dict/items.html)\n",
        "Retorna una lista de pares `llave-valor` del diccionario."
      ],
      "metadata": {
        "id": "sYZGvJJYrW_y"
      }
    },
    {
      "cell_type": "code",
      "source": [],
      "metadata": {
        "id": "ncdycLV08an7"
      },
      "execution_count": null,
      "outputs": []
    },
    {
      "cell_type": "markdown",
      "source": [
        "#### [`keys()`](https://python-reference.readthedocs.io/en/latest/docs/dict/keys.html)\n",
        "Retorna una lista de las llaves del diccionario."
      ],
      "metadata": {
        "id": "Lb0utNFGrZBY"
      }
    },
    {
      "cell_type": "code",
      "source": [],
      "metadata": {
        "id": "eZo0biaM8ZVs"
      },
      "execution_count": null,
      "outputs": []
    },
    {
      "cell_type": "markdown",
      "source": [
        "#### [`values()`](https://python-reference.readthedocs.io/en/latest/docs/dict/values.html)\n",
        "Retorna una lista de los valores del diccionario."
      ],
      "metadata": {
        "id": "qKyu3bf9rbtX"
      }
    },
    {
      "cell_type": "code",
      "source": [],
      "metadata": {
        "id": "-NxRT9C18Yvo"
      },
      "execution_count": null,
      "outputs": []
    },
    {
      "cell_type": "markdown",
      "source": [
        "### Lectura de valores con el lazo `for`"
      ],
      "metadata": {
        "id": "e3XVjR8Frp75"
      }
    },
    {
      "cell_type": "code",
      "source": [],
      "metadata": {
        "id": "NYcjU-Ip8Xan"
      },
      "execution_count": null,
      "outputs": []
    },
    {
      "cell_type": "code",
      "source": [],
      "metadata": {
        "id": "aAnpP1Wv8XfJ"
      },
      "execution_count": null,
      "outputs": []
    }
  ]
}